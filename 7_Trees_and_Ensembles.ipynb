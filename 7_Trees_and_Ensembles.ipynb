{
 "cells": [
  {
   "cell_type": "markdown",
   "metadata": {
    "id": "Dd2QfzpzxPbW"
   },
   "source": [
    "# Introduction"
   ]
  },
  {
   "cell_type": "markdown",
   "metadata": {
    "id": "vL7rf6FaxPbZ"
   },
   "source": [
    "Fortunately, with libraries such as Scikit-Learn, it’s now easy to build and use almost any machine learning algorithm. But it’s helpful to have an idea of how a machine learning model works under the hood. This lets us diagnose the model when it’s underperforming or explain how it makes decisions, which is crucial if we want to convince others to trust our models.\n",
    "In this assignment, we’ll look at how to build and use the Decision Tree and the Random Forest in Python. We’ll start by understanding how a single decision tree makes classifications on a simple problem. Then, we’ll work our way to using a random forest on a real-world data science problem."
   ]
  },
  {
   "cell_type": "markdown",
   "metadata": {
    "id": "GJ0XAW8sxPba"
   },
   "source": [
    "# Dataset"
   ]
  },
  {
   "cell_type": "markdown",
   "metadata": {
    "id": "9CSW9YUYxPbb"
   },
   "source": [
    "The dataset we will use in this assignment is the Sonar dataset.\n",
    "\n",
    "This is a dataset that describes sonar chirp returns bouncing off different surfaces. The 60 predictors are the strength of the returns at different angles. It is a binary classification problem that requires a model to differentiate rocks from metal cylinders. There are 208 observations.\n",
    "\n",
    "It is a well-understood dataset. All of the variables are continuous and generally in the range of 0 to 1. The output variable is a string “M” for mine and “R” for rock, which will need to be converted to integers 1 and 0.\n",
    "\n",
    "By predicting the class with the most observations in the dataset (M or mines) the Zero Rule Algorithm can achieve an accuracy of 53%.\n",
    "\n",
    "You can learn more about this dataset at the UCI Machine Learning repository.\n",
    "https://archive.ics.uci.edu/ml/datasets/Connectionist+Bench+(Sonar,+Mines+vs.+Rocks)\n",
    "\n",
    "Download the dataset for free and place it in the \"data\" folder in your working directory with the filename sonar.all-data.csv."
   ]
  },
  {
   "cell_type": "markdown",
   "metadata": {
    "id": "SihuAWG1xPbc"
   },
   "source": [
    "# Import section"
   ]
  },
  {
   "cell_type": "code",
   "execution_count": 1,
   "metadata": {
    "executionInfo": {
     "elapsed": 518,
     "status": "ok",
     "timestamp": 1650016628242,
     "user": {
      "displayName": "Kseniya Esepkina",
      "userId": "05053667790541406430"
     },
     "user_tz": -180
    },
    "id": "VJzMNo7nxPbd"
   },
   "outputs": [],
   "source": [
    "import numpy as np\n",
    "import pandas as pd\n",
    "import matplotlib.pyplot as plt\n",
    "import seaborn as sns\n",
    "from sklearn.model_selection import train_test_split\n",
    "from sklearn.metrics import accuracy_score"
   ]
  },
  {
   "cell_type": "code",
   "execution_count": 2,
   "metadata": {
    "executionInfo": {
     "elapsed": 103,
     "status": "ok",
     "timestamp": 1650016628785,
     "user": {
      "displayName": "Kseniya Esepkina",
      "userId": "05053667790541406430"
     },
     "user_tz": -180
    },
    "id": "8B_EGRoHxPbg"
   },
   "outputs": [],
   "source": [
    "import tests"
   ]
  },
  {
   "cell_type": "code",
   "execution_count": 3,
   "metadata": {
    "executionInfo": {
     "elapsed": 104,
     "status": "ok",
     "timestamp": 1650016628789,
     "user": {
      "displayName": "Kseniya Esepkina",
      "userId": "05053667790541406430"
     },
     "user_tz": -180
    },
    "id": "BKVsio6dxPbh"
   },
   "outputs": [],
   "source": [
    "RANDOM_STATE = 2020"
   ]
  },
  {
   "cell_type": "markdown",
   "metadata": {
    "id": "nxbA6b-bxPbi"
   },
   "source": [
    "# Preprocess data"
   ]
  },
  {
   "cell_type": "markdown",
   "metadata": {
    "id": "7gH9T2EExPbi"
   },
   "source": [
    "Read data and convert targets to integers 1 and 0."
   ]
  },
  {
   "cell_type": "code",
   "execution_count": 4,
   "metadata": {
    "colab": {
     "base_uri": "https://localhost:8080/",
     "height": 0
    },
    "executionInfo": {
     "elapsed": 105,
     "status": "ok",
     "timestamp": 1650016628792,
     "user": {
      "displayName": "Kseniya Esepkina",
      "userId": "05053667790541406430"
     },
     "user_tz": -180
    },
    "id": "wqiyTecfxPbj",
    "outputId": "b07ab940-d1af-4710-87da-5d3557351bd3"
   },
   "outputs": [
    {
     "data": {
      "text/html": [
       "<div>\n",
       "<style scoped>\n",
       "    .dataframe tbody tr th:only-of-type {\n",
       "        vertical-align: middle;\n",
       "    }\n",
       "\n",
       "    .dataframe tbody tr th {\n",
       "        vertical-align: top;\n",
       "    }\n",
       "\n",
       "    .dataframe thead th {\n",
       "        text-align: right;\n",
       "    }\n",
       "</style>\n",
       "<table border=\"1\" class=\"dataframe\">\n",
       "  <thead>\n",
       "    <tr style=\"text-align: right;\">\n",
       "      <th></th>\n",
       "      <th>feat_0</th>\n",
       "      <th>feat_1</th>\n",
       "      <th>feat_2</th>\n",
       "      <th>feat_3</th>\n",
       "      <th>feat_4</th>\n",
       "      <th>feat_5</th>\n",
       "      <th>feat_6</th>\n",
       "      <th>feat_7</th>\n",
       "      <th>feat_8</th>\n",
       "      <th>feat_9</th>\n",
       "      <th>...</th>\n",
       "      <th>feat_51</th>\n",
       "      <th>feat_52</th>\n",
       "      <th>feat_53</th>\n",
       "      <th>feat_54</th>\n",
       "      <th>feat_55</th>\n",
       "      <th>feat_56</th>\n",
       "      <th>feat_57</th>\n",
       "      <th>feat_58</th>\n",
       "      <th>feat_59</th>\n",
       "      <th>target</th>\n",
       "    </tr>\n",
       "  </thead>\n",
       "  <tbody>\n",
       "    <tr>\n",
       "      <th>0</th>\n",
       "      <td>0.0200</td>\n",
       "      <td>0.0371</td>\n",
       "      <td>0.0428</td>\n",
       "      <td>0.0207</td>\n",
       "      <td>0.0954</td>\n",
       "      <td>0.0986</td>\n",
       "      <td>0.1539</td>\n",
       "      <td>0.1601</td>\n",
       "      <td>0.3109</td>\n",
       "      <td>0.2111</td>\n",
       "      <td>...</td>\n",
       "      <td>0.0027</td>\n",
       "      <td>0.0065</td>\n",
       "      <td>0.0159</td>\n",
       "      <td>0.0072</td>\n",
       "      <td>0.0167</td>\n",
       "      <td>0.0180</td>\n",
       "      <td>0.0084</td>\n",
       "      <td>0.0090</td>\n",
       "      <td>0.0032</td>\n",
       "      <td>0</td>\n",
       "    </tr>\n",
       "    <tr>\n",
       "      <th>1</th>\n",
       "      <td>0.0453</td>\n",
       "      <td>0.0523</td>\n",
       "      <td>0.0843</td>\n",
       "      <td>0.0689</td>\n",
       "      <td>0.1183</td>\n",
       "      <td>0.2583</td>\n",
       "      <td>0.2156</td>\n",
       "      <td>0.3481</td>\n",
       "      <td>0.3337</td>\n",
       "      <td>0.2872</td>\n",
       "      <td>...</td>\n",
       "      <td>0.0084</td>\n",
       "      <td>0.0089</td>\n",
       "      <td>0.0048</td>\n",
       "      <td>0.0094</td>\n",
       "      <td>0.0191</td>\n",
       "      <td>0.0140</td>\n",
       "      <td>0.0049</td>\n",
       "      <td>0.0052</td>\n",
       "      <td>0.0044</td>\n",
       "      <td>0</td>\n",
       "    </tr>\n",
       "    <tr>\n",
       "      <th>2</th>\n",
       "      <td>0.0262</td>\n",
       "      <td>0.0582</td>\n",
       "      <td>0.1099</td>\n",
       "      <td>0.1083</td>\n",
       "      <td>0.0974</td>\n",
       "      <td>0.2280</td>\n",
       "      <td>0.2431</td>\n",
       "      <td>0.3771</td>\n",
       "      <td>0.5598</td>\n",
       "      <td>0.6194</td>\n",
       "      <td>...</td>\n",
       "      <td>0.0232</td>\n",
       "      <td>0.0166</td>\n",
       "      <td>0.0095</td>\n",
       "      <td>0.0180</td>\n",
       "      <td>0.0244</td>\n",
       "      <td>0.0316</td>\n",
       "      <td>0.0164</td>\n",
       "      <td>0.0095</td>\n",
       "      <td>0.0078</td>\n",
       "      <td>0</td>\n",
       "    </tr>\n",
       "    <tr>\n",
       "      <th>3</th>\n",
       "      <td>0.0100</td>\n",
       "      <td>0.0171</td>\n",
       "      <td>0.0623</td>\n",
       "      <td>0.0205</td>\n",
       "      <td>0.0205</td>\n",
       "      <td>0.0368</td>\n",
       "      <td>0.1098</td>\n",
       "      <td>0.1276</td>\n",
       "      <td>0.0598</td>\n",
       "      <td>0.1264</td>\n",
       "      <td>...</td>\n",
       "      <td>0.0121</td>\n",
       "      <td>0.0036</td>\n",
       "      <td>0.0150</td>\n",
       "      <td>0.0085</td>\n",
       "      <td>0.0073</td>\n",
       "      <td>0.0050</td>\n",
       "      <td>0.0044</td>\n",
       "      <td>0.0040</td>\n",
       "      <td>0.0117</td>\n",
       "      <td>0</td>\n",
       "    </tr>\n",
       "    <tr>\n",
       "      <th>4</th>\n",
       "      <td>0.0762</td>\n",
       "      <td>0.0666</td>\n",
       "      <td>0.0481</td>\n",
       "      <td>0.0394</td>\n",
       "      <td>0.0590</td>\n",
       "      <td>0.0649</td>\n",
       "      <td>0.1209</td>\n",
       "      <td>0.2467</td>\n",
       "      <td>0.3564</td>\n",
       "      <td>0.4459</td>\n",
       "      <td>...</td>\n",
       "      <td>0.0031</td>\n",
       "      <td>0.0054</td>\n",
       "      <td>0.0105</td>\n",
       "      <td>0.0110</td>\n",
       "      <td>0.0015</td>\n",
       "      <td>0.0072</td>\n",
       "      <td>0.0048</td>\n",
       "      <td>0.0107</td>\n",
       "      <td>0.0094</td>\n",
       "      <td>0</td>\n",
       "    </tr>\n",
       "  </tbody>\n",
       "</table>\n",
       "<p>5 rows × 61 columns</p>\n",
       "</div>"
      ],
      "text/plain": [
       "   feat_0  feat_1  feat_2  feat_3  feat_4  feat_5  feat_6  feat_7  feat_8  \\\n",
       "0  0.0200  0.0371  0.0428  0.0207  0.0954  0.0986  0.1539  0.1601  0.3109   \n",
       "1  0.0453  0.0523  0.0843  0.0689  0.1183  0.2583  0.2156  0.3481  0.3337   \n",
       "2  0.0262  0.0582  0.1099  0.1083  0.0974  0.2280  0.2431  0.3771  0.5598   \n",
       "3  0.0100  0.0171  0.0623  0.0205  0.0205  0.0368  0.1098  0.1276  0.0598   \n",
       "4  0.0762  0.0666  0.0481  0.0394  0.0590  0.0649  0.1209  0.2467  0.3564   \n",
       "\n",
       "   feat_9  ...  feat_51  feat_52  feat_53  feat_54  feat_55  feat_56  feat_57  \\\n",
       "0  0.2111  ...   0.0027   0.0065   0.0159   0.0072   0.0167   0.0180   0.0084   \n",
       "1  0.2872  ...   0.0084   0.0089   0.0048   0.0094   0.0191   0.0140   0.0049   \n",
       "2  0.6194  ...   0.0232   0.0166   0.0095   0.0180   0.0244   0.0316   0.0164   \n",
       "3  0.1264  ...   0.0121   0.0036   0.0150   0.0085   0.0073   0.0050   0.0044   \n",
       "4  0.4459  ...   0.0031   0.0054   0.0105   0.0110   0.0015   0.0072   0.0048   \n",
       "\n",
       "   feat_58  feat_59  target  \n",
       "0   0.0090   0.0032       0  \n",
       "1   0.0052   0.0044       0  \n",
       "2   0.0095   0.0078       0  \n",
       "3   0.0040   0.0117       0  \n",
       "4   0.0107   0.0094       0  \n",
       "\n",
       "[5 rows x 61 columns]"
      ]
     },
     "execution_count": 4,
     "metadata": {},
     "output_type": "execute_result"
    }
   ],
   "source": [
    "PATH = 'data/'\n",
    "df = pd.read_csv(PATH+'sonar-all-data.csv', header=None)\n",
    "df.columns = [f'feat_{col}' if col!=60 else 'target' for col in df.columns]\n",
    "df['target'] = df['target'].map({'M': 1, 'R': 0})\n",
    "df.head()"
   ]
  },
  {
   "cell_type": "markdown",
   "metadata": {
    "id": "S0YHZmLbxPbk"
   },
   "source": [
    "# Split data (train and test)"
   ]
  },
  {
   "cell_type": "code",
   "execution_count": 5,
   "metadata": {
    "executionInfo": {
     "elapsed": 112,
     "status": "ok",
     "timestamp": 1650016628803,
     "user": {
      "displayName": "Kseniya Esepkina",
      "userId": "05053667790541406430"
     },
     "user_tz": -180
    },
    "id": "l8XTXea3xPbl"
   },
   "outputs": [],
   "source": [
    "X_train, X_test, y_train, y_test = train_test_split(df.drop(columns='target'), df['target'], test_size=0.2, random_state=RANDOM_STATE)"
   ]
  },
  {
   "cell_type": "markdown",
   "metadata": {
    "id": "boGiAFLBxPbl"
   },
   "source": [
    "# Homework part 1. Implementation of Random Forest Classifier."
   ]
  },
  {
   "cell_type": "markdown",
   "metadata": {
    "id": "eOJyhZJDxPbm"
   },
   "source": [
    "## Splitting criteria"
   ]
  },
  {
   "cell_type": "markdown",
   "metadata": {
    "id": "8UVml6zKxPbm"
   },
   "source": [
    "**Task 1 - 2 points.** In this section you should implement two criteria for splitting of the feature space. Any of these can be used in the model."
   ]
  },
  {
   "cell_type": "markdown",
   "metadata": {
    "id": "e_wPZLa2xPbm"
   },
   "source": [
    "### Gini index"
   ]
  },
  {
   "cell_type": "markdown",
   "metadata": {
    "id": "4f9IpeaBxPbn"
   },
   "source": [
    "0.5 points for *gini_index* function"
   ]
  },
  {
   "cell_type": "code",
   "execution_count": 6,
   "metadata": {
    "colab": {
     "base_uri": "https://localhost:8080/"
    },
    "executionInfo": {
     "elapsed": 114,
     "status": "ok",
     "timestamp": 1650016628806,
     "user": {
      "displayName": "Kseniya Esepkina",
      "userId": "05053667790541406430"
     },
     "user_tz": -180
    },
    "id": "QFWpB9QjxPbn",
    "outputId": "fb6c33a9-aa60-4125-b571-1f56364989c4"
   },
   "outputs": [
    {
     "data": {
      "text/plain": [
       "array([0, 1], dtype=int64)"
      ]
     },
     "execution_count": 6,
     "metadata": {},
     "output_type": "execute_result"
    }
   ],
   "source": [
    "target_values = np.unique(df['target'])\n",
    "target_values"
   ]
  },
  {
   "cell_type": "code",
   "execution_count": 7,
   "metadata": {
    "executionInfo": {
     "elapsed": 103,
     "status": "ok",
     "timestamp": 1650016628808,
     "user": {
      "displayName": "Kseniya Esepkina",
      "userId": "05053667790541406430"
     },
     "user_tz": -180
    },
    "id": "_7ZN42NMxPbn"
   },
   "outputs": [],
   "source": [
    "def gini_index(x):\n",
    "    \"\"\" Calculate Gini Index for a node\n",
    "    Args:\n",
    "        x: Numpy-array of targets in a node\n",
    "    Returns:\n",
    "        float: Gini index\n",
    "    \"\"\"    \n",
    "    n = len(x)\n",
    "    if n==0:\n",
    "        return 0\n",
    "#     distinct_counts = np.array([len(x[x==value]) for value in target_values])\n",
    "#     gini = 1 - np.sum((distinct_counts / n) ** 2)\n",
    "    _, counts = np.unique(x, return_counts=True)\n",
    "    gini = 1 - np.sum((counts / n) ** 2)\n",
    "    return gini"
   ]
  },
  {
   "cell_type": "code",
   "execution_count": 8,
   "metadata": {
    "colab": {
     "base_uri": "https://localhost:8080/"
    },
    "executionInfo": {
     "elapsed": 101,
     "status": "ok",
     "timestamp": 1650016628809,
     "user": {
      "displayName": "Kseniya Esepkina",
      "userId": "05053667790541406430"
     },
     "user_tz": -180
    },
    "id": "Q1Ujk-YjxPbp",
    "outputId": "2132e401-fecb-4065-a9db-f3bcafab438c"
   },
   "outputs": [
    {
     "name": "stdout",
     "output_type": "stream",
     "text": [
      "\u001b[92m All good!\n"
     ]
    }
   ],
   "source": [
    "tests.test_gini_index(gini_index)"
   ]
  },
  {
   "cell_type": "markdown",
   "metadata": {
    "id": "-5xwcQ-QxPbq"
   },
   "source": [
    "0.5 points for *gini_gain* function"
   ]
  },
  {
   "cell_type": "code",
   "execution_count": 9,
   "metadata": {
    "executionInfo": {
     "elapsed": 96,
     "status": "ok",
     "timestamp": 1650016628810,
     "user": {
      "displayName": "Kseniya Esepkina",
      "userId": "05053667790541406430"
     },
     "user_tz": -180
    },
    "id": "aHYiIXK8xPbq"
   },
   "outputs": [],
   "source": [
    "def gini_gain(parent_node, splits):\n",
    "    \"\"\" Calculate Gini Gain for a particular split\n",
    "    Args:\n",
    "        parent_node: Numpy-array of targets in a parent node\n",
    "        splits: List of two numpy-arrays. Each numpy-array is targets in a child node\n",
    "    Returns:\n",
    "        float: Gini gain\n",
    "    \"\"\"    \n",
    "    n = len(parent_node)\n",
    "    gain = gini_index(parent_node) - sum(len(child) / n * gini_index(child) for child in splits)\n",
    "    return gain"
   ]
  },
  {
   "cell_type": "code",
   "execution_count": 10,
   "metadata": {
    "colab": {
     "base_uri": "https://localhost:8080/"
    },
    "executionInfo": {
     "elapsed": 96,
     "status": "ok",
     "timestamp": 1650016628815,
     "user": {
      "displayName": "Kseniya Esepkina",
      "userId": "05053667790541406430"
     },
     "user_tz": -180
    },
    "id": "9gVqBi65xPbr",
    "outputId": "01f2872a-bfea-44d0-8512-a1e4c5e97b96"
   },
   "outputs": [
    {
     "name": "stdout",
     "output_type": "stream",
     "text": [
      "\u001b[92m All good!\n"
     ]
    }
   ],
   "source": [
    "tests.test_gini_gain(gini_gain)"
   ]
  },
  {
   "cell_type": "markdown",
   "metadata": {
    "id": "Cb6NzsYLxPbs"
   },
   "source": [
    "### Entropy"
   ]
  },
  {
   "cell_type": "markdown",
   "metadata": {
    "id": "8zElGeSgxPbs"
   },
   "source": [
    "0.5 points for *entropy* function. WARNING! Use only natural logarithm np.log() for calculation."
   ]
  },
  {
   "cell_type": "code",
   "execution_count": 11,
   "metadata": {
    "executionInfo": {
     "elapsed": 94,
     "status": "ok",
     "timestamp": 1650016628818,
     "user": {
      "displayName": "Kseniya Esepkina",
      "userId": "05053667790541406430"
     },
     "user_tz": -180
    },
    "id": "onMkjvMtxPbs"
   },
   "outputs": [],
   "source": [
    "def entropy(x):\n",
    "    \"\"\" Calculate Entropy for a node\n",
    "    Args:\n",
    "        x: Numpy-array of targets in a node\n",
    "    Returns:\n",
    "        float: Entropy\n",
    "    \"\"\"\n",
    "    # If you use vectorized operations on a vector of frequencies p\n",
    "    # where some of the relative frequencies may be 0, and you need to evaluate\n",
    "    # the expression p * np.log(p), you can use the \"where\" argument of the np.log() function.\n",
    "    # This will leave those elements of the array untouched by the function, \n",
    "    # thus evaluating x*log(x) as zero, exactly as we want it to be.\n",
    "    n = len(x)\n",
    "    if n==0:\n",
    "        return 0\n",
    "    _, counts = np.unique(x, return_counts=True)\n",
    "    probs = counts / n\n",
    "    return - np.sum(probs * np.log(probs))\n",
    "#     probs = np.array([len(x[x==value]) / n for value in target_values])\n",
    "#     return - np.sum(probs * np.log(probs, where=(probs!=0)))"
   ]
  },
  {
   "cell_type": "code",
   "execution_count": 12,
   "metadata": {
    "colab": {
     "base_uri": "https://localhost:8080/"
    },
    "executionInfo": {
     "elapsed": 94,
     "status": "ok",
     "timestamp": 1650016628820,
     "user": {
      "displayName": "Kseniya Esepkina",
      "userId": "05053667790541406430"
     },
     "user_tz": -180
    },
    "id": "RbkCWx8axPbt",
    "outputId": "a0e18c52-81d4-4c0d-c923-58e936e5a0aa"
   },
   "outputs": [
    {
     "name": "stdout",
     "output_type": "stream",
     "text": [
      "\u001b[92m All good!\n"
     ]
    }
   ],
   "source": [
    "tests.test_entropy(entropy)"
   ]
  },
  {
   "cell_type": "markdown",
   "metadata": {
    "id": "vv-Nsq4vxPbu"
   },
   "source": [
    "0.5 points for *information_gain* function"
   ]
  },
  {
   "cell_type": "code",
   "execution_count": 13,
   "metadata": {
    "executionInfo": {
     "elapsed": 91,
     "status": "ok",
     "timestamp": 1650016628826,
     "user": {
      "displayName": "Kseniya Esepkina",
      "userId": "05053667790541406430"
     },
     "user_tz": -180
    },
    "id": "_F0z_fF0xPbu"
   },
   "outputs": [],
   "source": [
    "def information_gain(parent_node, splits):\n",
    "    \"\"\" Calculate Information Gain for a particular split\n",
    "    Args:\n",
    "        parent_node: Numpy-array of targets in a parent node\n",
    "        splits: List of two numpy-arrays. Each numpy-array is targets in a child node\n",
    "    Returns:\n",
    "        float: Information Gain\n",
    "    \"\"\"     \n",
    "    n = len(parent_node)\n",
    "    return entropy(parent_node) - sum([len(child) / n * entropy(child) for child in splits])"
   ]
  },
  {
   "cell_type": "code",
   "execution_count": 14,
   "metadata": {
    "colab": {
     "base_uri": "https://localhost:8080/"
    },
    "executionInfo": {
     "elapsed": 91,
     "status": "ok",
     "timestamp": 1650016628828,
     "user": {
      "displayName": "Kseniya Esepkina",
      "userId": "05053667790541406430"
     },
     "user_tz": -180
    },
    "id": "oOSR_dGZxPbv",
    "outputId": "92bb03c3-e069-47b3-e1ed-1a630c059cb0"
   },
   "outputs": [
    {
     "name": "stdout",
     "output_type": "stream",
     "text": [
      "\u001b[92m All good!\n"
     ]
    }
   ],
   "source": [
    "tests.test_information_gain(information_gain)"
   ]
  },
  {
   "cell_type": "markdown",
   "metadata": {
    "id": "kw4qUz4vxPbw"
   },
   "source": [
    "## Split function"
   ]
  },
  {
   "cell_type": "markdown",
   "metadata": {
    "id": "rHOVtia2xPbx"
   },
   "source": [
    "**Task 2 - 1 point** Implement *split_dataset* function. <br>\n",
    "The rows of the dataframe received by a tree node are split into two dataframes depending on their values in a selected column. Rows with values smaller than the chosen threshold are stored in the resulting left dataframe, and we save rows with values larger than the threshold in the right dataframe. The array with target values should be split in accordance with the feature dataframe."
   ]
  },
  {
   "cell_type": "code",
   "execution_count": 15,
   "metadata": {
    "executionInfo": {
     "elapsed": 89,
     "status": "ok",
     "timestamp": 1650016628829,
     "user": {
      "displayName": "Kseniya Esepkina",
      "userId": "05053667790541406430"
     },
     "user_tz": -180
    },
    "id": "iYY_giPnxPbx"
   },
   "outputs": [],
   "source": [
    "def split(X, y, value):\n",
    "    \"\"\" Split y-values in order to calculate gain later\n",
    "    Args:\n",
    "        X: 1-dimensional numpy-array of data predictor with shape (N,)\n",
    "        y: 1-dimensional numpy-array of targets with shape (N,)\n",
    "        value (float): the value by which the X should be splitted\n",
    "    Returns:\n",
    "        Two 1-dimensional numpy-arrays with targets related to splits\n",
    "    \"\"\"      \n",
    "    left_mask = X < value\n",
    "    right_mask = X >= value\n",
    "    return y[left_mask], y[right_mask]\n",
    "\n",
    "\n",
    "def split_dataset(X, y, column, value):\n",
    "    \"\"\" Split dataset by a particular column and value\n",
    "    Args:\n",
    "        X: 2-dimensional numpy-array (N, num_feats). N-number of samples\n",
    "        y: 1-dimensional numpy-array of targets with shape (N,)  \n",
    "        column (int): the column by which the X should be splitted\n",
    "        value (float): the value by which the column should be splitted\n",
    "    Returns:\n",
    "        Two 2-dimensional numpy-arrays with data and two 1-dimensional numpy-arrays with targets related to splits\n",
    "        left_X, right_X, left_y, right_y\n",
    "    \"\"\"       \n",
    "    left_mask = X[:, column] < value\n",
    "    right_mask = X[:, column] >= value\n",
    "    left_y, right_y = y[left_mask], y[right_mask]\n",
    "    left_X, right_X = X[left_mask], X[right_mask]\n",
    "    return left_X, right_X, left_y, right_y"
   ]
  },
  {
   "cell_type": "code",
   "execution_count": 16,
   "metadata": {
    "colab": {
     "base_uri": "https://localhost:8080/"
    },
    "executionInfo": {
     "elapsed": 89,
     "status": "ok",
     "timestamp": 1650016628830,
     "user": {
      "displayName": "Kseniya Esepkina",
      "userId": "05053667790541406430"
     },
     "user_tz": -180
    },
    "id": "Sz2dtIsfxPb5",
    "outputId": "0ca40475-c054-41b8-d991-180183707029"
   },
   "outputs": [
    {
     "name": "stdout",
     "output_type": "stream",
     "text": [
      "\u001b[92m All good!\n"
     ]
    }
   ],
   "source": [
    "tests.test_split_dataset(split_dataset)"
   ]
  },
  {
   "cell_type": "markdown",
   "metadata": {
    "id": "JPOIsMhAxPb5"
   },
   "source": [
    "## Decision tree"
   ]
  },
  {
   "cell_type": "markdown",
   "metadata": {
    "id": "LbGGEnsFxPb6"
   },
   "source": [
    "**Task 3 - 4.5 points** In the Tree class below you need to complete the *fit(), predict_row()* and *predict()* functions.<br>\n",
    "Each tree is basically a tree node that may have a left and a right child that are also trees. If a tree doesn't have any child nodes, we call it a leaf.<br>\n",
    "Since features for splitting a dataframe are chosen randomly, we need a mechanism to control this randomness to aquire reproducibility for testing purposes. In our case we use the [Random Generator](https://numpy.org/doc/stable/reference/random/generator.html)<br>\n",
    "By creation of a tree only the **criterion** and the **rng** fields are not filled with Nones, so each tree knows what criterion for dataframe splitting it should use. Each fitted tree knows as well by which column and value the split should be performed. If a tree is a leaf it doesn't have information about the split, but stores the predicted value."
   ]
  },
  {
   "cell_type": "code",
   "execution_count": 17,
   "metadata": {
    "executionInfo": {
     "elapsed": 306,
     "status": "ok",
     "timestamp": 1650016629052,
     "user": {
      "displayName": "Kseniya Esepkina",
      "userId": "05053667790541406430"
     },
     "user_tz": -180
    },
    "id": "bWb_u8tBxPb6"
   },
   "outputs": [],
   "source": [
    "class Tree(object):\n",
    "    \"\"\"A decision tree classifier.\n",
    "\n",
    "    Args:\n",
    "        criterion : {\"gini\", \"entropy\"}, default=\"gini\"\n",
    "            The function to measure the quality of a split. Supported criteria are\n",
    "            \"gini\" for the Gini impurity and \"entropy\" for the information gain.\n",
    "        random_gen: numpy Random Generator object, default=None\n",
    "            Generator should be passed over for reproducible results. If None, \n",
    "            a new np.random.default_rng() will be created.\n",
    "    \"\"\"\n",
    "    def __init__(self, criterion='gini', random_gen=None):\n",
    "        if criterion not in [\"gini\", \"entropy\"]:\n",
    "            raise ValueError(f'Unknown criteria for splits {criterion}')\n",
    "        self.criterion = criterion\n",
    "        self.threshold = None           # value of the next split\n",
    "        self.column_index = None        # column to use for the next split\n",
    "        self.outcome_probs = None       # the predicted value if the tree is a leaf\n",
    "        self.left_child = None\n",
    "        self.right_child = None\n",
    "        self.rng = random_gen if random_gen is not None else np.random.default_rng()\n",
    "\n",
    "    @property\n",
    "    def is_terminal(self):\n",
    "        \"\"\"Define is it terminal node.\"\"\"          \n",
    "        return not bool(self.left_child and self.right_child)\n",
    "    \n",
    "    def _compute_gain(self, y, splits):\n",
    "        \"\"\"Compute split gain according to chosen criteria.\"\"\"\n",
    "        func = gini_gain if self.criterion == 'gini' else information_gain\n",
    "        return func(y, splits)\n",
    "\n",
    "    def _find_splits(self, X):\n",
    "        \"\"\"Find all possible split values.\"\"\"\n",
    "        split_values = set()\n",
    "\n",
    "        # Get unique values in a sorted order\n",
    "        x_unique = list(np.unique(X))\n",
    "        for i in range(1, len(x_unique)):\n",
    "            # Find a point between two values\n",
    "            average = (x_unique[i - 1] + x_unique[i]) / 2.0\n",
    "            split_values.add(average)\n",
    "\n",
    "        return list(split_values)\n",
    "\n",
    "    def _find_best_split(self, X, y, n_features):\n",
    "        \"\"\"Find best feature and value for a split. Greedy algorithm.\"\"\"\n",
    "        # Sample random subset of features\n",
    "        subset = self.rng.choice(list(range(0, X.shape[1])), n_features, replace=False)\n",
    "\n",
    "        max_gain, max_col, max_val = None, None, None\n",
    "\n",
    "        for column in subset:\n",
    "            split_values = self._find_splits(X[:, column])\n",
    "            for value in split_values:\n",
    "                splits = split(X[:, column], y, value)\n",
    "                gain = self._compute_gain(y, splits)\n",
    "                \n",
    "                if (max_gain is None) or (gain > max_gain):\n",
    "                    max_col, max_val, max_gain = column, value, gain\n",
    "        return max_col, max_val, max_gain\n",
    "    \n",
    "    def _compute_outcome(self, y):\n",
    "        \"\"\"Save outcome probabilities for the leaf.\"\"\"\n",
    "        self.outcome_probs = np.around(np.sum(y) / y.shape[0])\n",
    "\n",
    "    def fit(self, X, y, feature_frac=1.0, max_depth=None):\n",
    "        \"\"\"Fit model.\n",
    "\n",
    "        Args:\n",
    "            X (numpy-array):      The training input samples. 2-dimensional numpy array.\n",
    "            y (numpy-array):      The target values. 1-dimensional numpy array.\n",
    "            feature_frac (float): The fraction of features to use when fit is performed. Must be \n",
    "                                  between 0.0 and 1.0 (default: 1.0, i.e. all features).\n",
    "            max_depth (int):      The maximum depth of the tree. If None, then nodes are expanded\n",
    "                                  until all leaves are pure.\n",
    "        \"\"\"\n",
    "        # 3 points\n",
    "        \n",
    "        # Make this tree a leaf and return if max_depth doesn't allow it to grow further\n",
    "        if max_depth is not None and max_depth==0:\n",
    "            self._compute_outcome(y)\n",
    "            return\n",
    "        \n",
    "        if not 0.0 <= feature_frac <= 1.0:\n",
    "            raise ValueError('feature_frac must lie between 0.0 and 1.0')\n",
    "        # Compute the number of features to use. Should be integer number\n",
    "        n_features = int(feature_frac * X.shape[1])\n",
    "        \n",
    "        # Find the next split    \n",
    "        column, value, gain = self._find_best_split(X, y, n_features)\n",
    "        \n",
    "        # Make this tree a leaf and return if the split doesn't bring any gain\n",
    "        if gain is None or gain <= 0:\n",
    "            self._compute_outcome(y)\n",
    "            return\n",
    "        \n",
    "        # Save the necessary information about the next split\n",
    "        self.threshold = value\n",
    "        self.column_index = column\n",
    "        \n",
    "        # Reduce the max_depth parameter for the next tree\n",
    "        if max_depth is not None:\n",
    "            max_depth -= 1\n",
    "\n",
    "        # Split dataset\n",
    "        left_X, right_X, left_target, right_target = split_dataset(X, y, self.column_index, self.threshold)\n",
    "\n",
    "        # Grow left and right child. Pass over the parent's random generator\n",
    "        # for reproducible results \n",
    "        self.left_child = Tree(criterion=self.criterion, random_gen=self.rng)\n",
    "        self.left_child.fit(left_X, left_target, feature_frac, max_depth)\n",
    "\n",
    "        self.right_child = Tree(criterion=self.criterion, random_gen=self.rng)\n",
    "        self.right_child.fit(right_X, right_target, feature_frac, max_depth)\n",
    "\n",
    "    def predict_row(self, row):\n",
    "        \"\"\"Predict single row.\"\"\"\n",
    "        # 0.5 points\n",
    "        \n",
    "        if not self.is_terminal:\n",
    "            # Use the stored information about the split to define \n",
    "            # if the right or the left child to use\n",
    "            if row[self.column_index] < self.threshold:\n",
    "                return self.left_child.predict_row(row)\n",
    "            else:\n",
    "                return self.right_child.predict_row(row)\n",
    "        return self.outcome_probs\n",
    "\n",
    "    def predict(self, X):\n",
    "        \"\"\"Make predictions.\n",
    "\n",
    "        Args:\n",
    "            X (numpy-array): The test input samples. 2-dimensional numpy array.\n",
    "        Returns:\n",
    "            1-dimensional numpy-array with predictions     \n",
    "        \"\"\" \n",
    "        # 1 point\n",
    "        \n",
    "        # Create a numpy array of zeros of necessary length to save predictions\n",
    "        result = np.zeros(X.shape[0])\n",
    "        # Go through all rows of the dataset\n",
    "        for i in range(X.shape[0]):\n",
    "            # Save the prediction for the current row\n",
    "            result[i] = self.predict_row(X[i])\n",
    "        return result"
   ]
  },
  {
   "cell_type": "code",
   "execution_count": 18,
   "metadata": {
    "id": "VfLKv5lqxPb_",
    "outputId": "93dc722c-0f4f-4538-cb5a-78b2fb0c810c"
   },
   "outputs": [
    {
     "name": "stdout",
     "output_type": "stream",
     "text": [
      "\u001b[92m All good!\n"
     ]
    }
   ],
   "source": [
    "tests.test_tree(Tree)"
   ]
  },
  {
   "cell_type": "markdown",
   "metadata": {
    "id": "nZKaloB6xPcI"
   },
   "source": [
    "**Task 4 - 1 point** Fit two models with \"max_depth=3\" and \"max_depth=None\" hyperparameters. **Explain** the results."
   ]
  },
  {
   "cell_type": "code",
   "execution_count": 18,
   "metadata": {
    "executionInfo": {
     "elapsed": 24876,
     "status": "ok",
     "timestamp": 1650015722317,
     "user": {
      "displayName": "Kseniya Esepkina",
      "userId": "05053667790541406430"
     },
     "user_tz": -180
    },
    "id": "YArDEetNxPcI"
   },
   "outputs": [],
   "source": [
    "# Your code here\n",
    "# Tree fitted with max_depth=3\n",
    "tree_3 = Tree(random_gen=np.random.default_rng(RANDOM_STATE))\n",
    "tree_3.fit(X_train.values, y_train, max_depth=3)\n",
    "accuracy_train_3 = accuracy_score(y_train, tree_3.predict(X_train.values))\n",
    "accuracy_test_3 = accuracy_score(y_test, tree_3.predict(X_test.values))\n",
    "\n",
    "# Tree fitted with max_depth=None\n",
    "tree_inf = Tree(random_gen=np.random.default_rng(RANDOM_STATE))\n",
    "tree_inf.fit(X_train.values, y_train)\n",
    "accuracy_train_inf = accuracy_score(y_train, tree_inf.predict(X_train.values))\n",
    "accuracy_test_inf = accuracy_score(y_test, tree_inf.predict(X_test.values))"
   ]
  },
  {
   "cell_type": "code",
   "execution_count": 19,
   "metadata": {
    "colab": {
     "base_uri": "https://localhost:8080/",
     "height": 112
    },
    "executionInfo": {
     "elapsed": 151,
     "status": "ok",
     "timestamp": 1650015722337,
     "user": {
      "displayName": "Kseniya Esepkina",
      "userId": "05053667790541406430"
     },
     "user_tz": -180
    },
    "id": "1j6JVrRGxPcJ",
    "outputId": "9ea29150-3fb1-4bf8-a527-c64745aa5b10"
   },
   "outputs": [
    {
     "data": {
      "text/html": [
       "\n",
       "  <div id=\"df-cc296fb4-3bbf-4666-868d-561d2498149e\">\n",
       "    <div class=\"colab-df-container\">\n",
       "      <div>\n",
       "<style scoped>\n",
       "    .dataframe tbody tr th:only-of-type {\n",
       "        vertical-align: middle;\n",
       "    }\n",
       "\n",
       "    .dataframe tbody tr th {\n",
       "        vertical-align: top;\n",
       "    }\n",
       "\n",
       "    .dataframe thead th {\n",
       "        text-align: right;\n",
       "    }\n",
       "</style>\n",
       "<table border=\"1\" class=\"dataframe\">\n",
       "  <thead>\n",
       "    <tr style=\"text-align: right;\">\n",
       "      <th></th>\n",
       "      <th>Train accuracy</th>\n",
       "      <th>Test accuracy</th>\n",
       "    </tr>\n",
       "  </thead>\n",
       "  <tbody>\n",
       "    <tr>\n",
       "      <th>max_depth=3</th>\n",
       "      <td>0.927711</td>\n",
       "      <td>0.666667</td>\n",
       "    </tr>\n",
       "    <tr>\n",
       "      <th>max_depth=None</th>\n",
       "      <td>1.000000</td>\n",
       "      <td>0.642857</td>\n",
       "    </tr>\n",
       "  </tbody>\n",
       "</table>\n",
       "</div>\n",
       "      <button class=\"colab-df-convert\" onclick=\"convertToInteractive('df-cc296fb4-3bbf-4666-868d-561d2498149e')\"\n",
       "              title=\"Convert this dataframe to an interactive table.\"\n",
       "              style=\"display:none;\">\n",
       "        \n",
       "  <svg xmlns=\"http://www.w3.org/2000/svg\" height=\"24px\"viewBox=\"0 0 24 24\"\n",
       "       width=\"24px\">\n",
       "    <path d=\"M0 0h24v24H0V0z\" fill=\"none\"/>\n",
       "    <path d=\"M18.56 5.44l.94 2.06.94-2.06 2.06-.94-2.06-.94-.94-2.06-.94 2.06-2.06.94zm-11 1L8.5 8.5l.94-2.06 2.06-.94-2.06-.94L8.5 2.5l-.94 2.06-2.06.94zm10 10l.94 2.06.94-2.06 2.06-.94-2.06-.94-.94-2.06-.94 2.06-2.06.94z\"/><path d=\"M17.41 7.96l-1.37-1.37c-.4-.4-.92-.59-1.43-.59-.52 0-1.04.2-1.43.59L10.3 9.45l-7.72 7.72c-.78.78-.78 2.05 0 2.83L4 21.41c.39.39.9.59 1.41.59.51 0 1.02-.2 1.41-.59l7.78-7.78 2.81-2.81c.8-.78.8-2.07 0-2.86zM5.41 20L4 18.59l7.72-7.72 1.47 1.35L5.41 20z\"/>\n",
       "  </svg>\n",
       "      </button>\n",
       "      \n",
       "  <style>\n",
       "    .colab-df-container {\n",
       "      display:flex;\n",
       "      flex-wrap:wrap;\n",
       "      gap: 12px;\n",
       "    }\n",
       "\n",
       "    .colab-df-convert {\n",
       "      background-color: #E8F0FE;\n",
       "      border: none;\n",
       "      border-radius: 50%;\n",
       "      cursor: pointer;\n",
       "      display: none;\n",
       "      fill: #1967D2;\n",
       "      height: 32px;\n",
       "      padding: 0 0 0 0;\n",
       "      width: 32px;\n",
       "    }\n",
       "\n",
       "    .colab-df-convert:hover {\n",
       "      background-color: #E2EBFA;\n",
       "      box-shadow: 0px 1px 2px rgba(60, 64, 67, 0.3), 0px 1px 3px 1px rgba(60, 64, 67, 0.15);\n",
       "      fill: #174EA6;\n",
       "    }\n",
       "\n",
       "    [theme=dark] .colab-df-convert {\n",
       "      background-color: #3B4455;\n",
       "      fill: #D2E3FC;\n",
       "    }\n",
       "\n",
       "    [theme=dark] .colab-df-convert:hover {\n",
       "      background-color: #434B5C;\n",
       "      box-shadow: 0px 1px 3px 1px rgba(0, 0, 0, 0.15);\n",
       "      filter: drop-shadow(0px 1px 2px rgba(0, 0, 0, 0.3));\n",
       "      fill: #FFFFFF;\n",
       "    }\n",
       "  </style>\n",
       "\n",
       "      <script>\n",
       "        const buttonEl =\n",
       "          document.querySelector('#df-cc296fb4-3bbf-4666-868d-561d2498149e button.colab-df-convert');\n",
       "        buttonEl.style.display =\n",
       "          google.colab.kernel.accessAllowed ? 'block' : 'none';\n",
       "\n",
       "        async function convertToInteractive(key) {\n",
       "          const element = document.querySelector('#df-cc296fb4-3bbf-4666-868d-561d2498149e');\n",
       "          const dataTable =\n",
       "            await google.colab.kernel.invokeFunction('convertToInteractive',\n",
       "                                                     [key], {});\n",
       "          if (!dataTable) return;\n",
       "\n",
       "          const docLinkHtml = 'Like what you see? Visit the ' +\n",
       "            '<a target=\"_blank\" href=https://colab.research.google.com/notebooks/data_table.ipynb>data table notebook</a>'\n",
       "            + ' to learn more about interactive tables.';\n",
       "          element.innerHTML = '';\n",
       "          dataTable['output_type'] = 'display_data';\n",
       "          await google.colab.output.renderOutput(dataTable, element);\n",
       "          const docLink = document.createElement('div');\n",
       "          docLink.innerHTML = docLinkHtml;\n",
       "          element.appendChild(docLink);\n",
       "        }\n",
       "      </script>\n",
       "    </div>\n",
       "  </div>\n",
       "  "
      ],
      "text/plain": [
       "                Train accuracy  Test accuracy\n",
       "max_depth=3           0.927711       0.666667\n",
       "max_depth=None        1.000000       0.642857"
      ]
     },
     "execution_count": 19,
     "metadata": {},
     "output_type": "execute_result"
    }
   ],
   "source": [
    "# Your code here\n",
    "pd.DataFrame({\"Train accuracy\": [accuracy_train_3, accuracy_train_inf], \\\n",
    "              \"Test accuracy\": [accuracy_test_3, accuracy_test_inf]}, \\\n",
    "             index=[\"max_depth=3\", \"max_depth=None\"])"
   ]
  },
  {
   "cell_type": "markdown",
   "metadata": {
    "id": "oRZrjF79xPcK"
   },
   "source": [
    "*Let's check the depth of the second decision tree with `max_depth=None`:*"
   ]
  },
  {
   "cell_type": "code",
   "execution_count": 20,
   "metadata": {
    "executionInfo": {
     "elapsed": 357,
     "status": "ok",
     "timestamp": 1650015728549,
     "user": {
      "displayName": "Kseniya Esepkina",
      "userId": "05053667790541406430"
     },
     "user_tz": -180
    },
    "id": "vgjwVvzDxPcL"
   },
   "outputs": [],
   "source": [
    "def count_depth(tree):\n",
    "    if tree.is_terminal:\n",
    "        return 1\n",
    "    return max(count_depth(tree.left_child), count_depth(tree.right_child)) + 1"
   ]
  },
  {
   "cell_type": "code",
   "execution_count": 21,
   "metadata": {
    "colab": {
     "base_uri": "https://localhost:8080/"
    },
    "executionInfo": {
     "elapsed": 27,
     "status": "ok",
     "timestamp": 1650015729867,
     "user": {
      "displayName": "Kseniya Esepkina",
      "userId": "05053667790541406430"
     },
     "user_tz": -180
    },
    "id": "LXiCPlnExPcL",
    "outputId": "683434de-e143-4280-b3d8-76f63af7d38b"
   },
   "outputs": [
    {
     "name": "stdout",
     "output_type": "stream",
     "text": [
      "Depth of the the second tree equals 7.\n"
     ]
    }
   ],
   "source": [
    "print(f'Depth of the the second tree equals {count_depth(tree_inf)}.')"
   ]
  },
  {
   "cell_type": "markdown",
   "metadata": {
    "id": "Z_D9zCe-xPcM"
   },
   "source": [
    "***Results explanation***\n",
    "\n",
    "*As we see, the second tree has twice more levels, but its test accuracy is worser than by the tree with 3 levels. The train accuracies tell us, that the second tree can be also overfitted (that's not good). Furthermore, the tree with unlimited depth can take much more PC resources for fitting.*"
   ]
  },
  {
   "cell_type": "code",
   "execution_count": 22,
   "metadata": {
    "executionInfo": {
     "elapsed": 323,
     "status": "ok",
     "timestamp": 1650015794262,
     "user": {
      "displayName": "Kseniya Esepkina",
      "userId": "05053667790541406430"
     },
     "user_tz": -180
    },
    "id": "1bdMCAi4xPcM"
   },
   "outputs": [],
   "source": [
    "def plot_metrics_on_depths(criterion='gini'):\n",
    "    max_depths, train_scores, test_scores = [], [], []\n",
    "    for max_depth in range(0, 8):\n",
    "        max_depths.append(max_depth)\n",
    "        model = Tree(criterion=criterion)\n",
    "        model.fit(X_train.values, y_train.values, max_depth=max_depth)\n",
    "        train_scores.append(accuracy_score(y_train, model.predict(X_train.values)))\n",
    "        y_pred = model.predict(X_test.values)\n",
    "        test_scores.append(accuracy_score(y_test, y_pred))\n",
    "    res_metrics = pd.DataFrame(data={'train': train_scores, 'test': test_scores}, index=max_depths)\n",
    "    sns.set(rc={'figure.figsize':(16, 6)})\n",
    "    plt.plot(res_metrics['train'], label='train score')\n",
    "    plt.plot(res_metrics['test'], label='test score')\n",
    "    plt.title(\"Accuracy as a function of max_depth\")\n",
    "    plt.xlabel('max_depth')\n",
    "    plt.ylabel('accuracy')\n",
    "    plt.legend()\n",
    "    plt.show();"
   ]
  },
  {
   "cell_type": "code",
   "execution_count": 23,
   "metadata": {
    "colab": {
     "base_uri": "https://localhost:8080/",
     "height": 410
    },
    "executionInfo": {
     "elapsed": 33532,
     "status": "ok",
     "timestamp": 1650015830552,
     "user": {
      "displayName": "Kseniya Esepkina",
      "userId": "05053667790541406430"
     },
     "user_tz": -180
    },
    "id": "vFo5gkSuxPcM",
    "outputId": "97544ee5-ebbf-4722-dfc5-d3d56d319961"
   },
   "outputs": [
    {
     "data": {
      "image/png": "[encoded data removed]",
      "text/plain": [
       "<Figure size 1152x432 with 1 Axes>"
      ]
     },
     "metadata": {},
     "output_type": "display_data"
    }
   ],
   "source": [
    "plot_metrics_on_depths('gini')"
   ]
  },
  {
   "cell_type": "code",
   "execution_count": 24,
   "metadata": {
    "colab": {
     "base_uri": "https://localhost:8080/",
     "height": 410
    },
    "executionInfo": {
     "elapsed": 37262,
     "status": "ok",
     "timestamp": 1650015867807,
     "user": {
      "displayName": "Kseniya Esepkina",
      "userId": "05053667790541406430"
     },
     "user_tz": -180
    },
    "id": "QiIx3rl5xPcN",
    "outputId": "ed8e52ff-a3ed-459c-9ab9-72ecae530087"
   },
   "outputs": [
    {
     "data": {
      "image/png": "[encoded data removed]",
      "text/plain": [
       "<Figure size 1152x432 with 1 Axes>"
      ]
     },
     "metadata": {},
     "output_type": "display_data"
    }
   ],
   "source": [
    "plot_metrics_on_depths('entropy')"
   ]
  },
  {
   "cell_type": "markdown",
   "metadata": {
    "id": "Tqta8EjcxPcN"
   },
   "source": [
    "*The graphs prove my statement that tree with `depth=7` overfitts.*"
   ]
  },
  {
   "cell_type": "markdown",
   "metadata": {
    "id": "V-d8LDKDxPcO"
   },
   "source": [
    "## Random forest"
   ]
  },
  {
   "cell_type": "markdown",
   "metadata": {
    "id": "KW_zlnWzxPcO"
   },
   "source": [
    "**Task 5 - 1.5 Points** In the RandomForestClassifier class below you need to complete the *fit* and *predict()* functions"
   ]
  },
  {
   "cell_type": "code",
   "execution_count": 19,
   "metadata": {
    "executionInfo": {
     "elapsed": 7,
     "status": "ok",
     "timestamp": 1650016629053,
     "user": {
      "displayName": "Kseniya Esepkina",
      "userId": "05053667790541406430"
     },
     "user_tz": -180
    },
    "id": "ofAkpnKlxPcO"
   },
   "outputs": [],
   "source": [
    "class RandomForestClassifier(object):\n",
    "    \"\"\"\n",
    "    A random forest classifier.\n",
    "    A random forest is a meta estimator that fits a number of decision tree\n",
    "    classifiers on various sub-samples of the dataset and uses averaging to\n",
    "    improve the predictive accuracy and control overfitting.\n",
    "    \n",
    "    Args:\n",
    "        n_estimators : int, default=10\n",
    "            The number of trees in the forest.\n",
    "\n",
    "        max_depth : int, default=None\n",
    "            The maximum depth of the tree. If None, then nodes are expanded until\n",
    "            all leaves are pure.        \n",
    "\n",
    "        feature_frac : float, default=None\n",
    "            The fraction of features to use when looking for the best split. Must be \n",
    "            between 0.0 and 1.0. If None, then `feature_frac = 1 / sqrt(n_features)`.\n",
    "\n",
    "        criterion : {\"gini\", \"entropy\"}, default=\"gini\"\n",
    "            The function to measure the quality of a split. Supported criteria are\n",
    "            \"gini\" for the Gini impurity and \"entropy\" for the information gain.\n",
    "            \n",
    "        random_gen: numpy Random Generator object, default=None\n",
    "            Generator should be passed over for reproducible results. If None, \n",
    "            a new np.random.default_rng() will be created.\n",
    "    \"\"\"\n",
    "\n",
    "    def __init__(self, n_estimators=10, max_depth=None, feature_frac=None, \n",
    "                 criterion=\"entropy\", bootstrap=True, random_gen=None):\n",
    "        self.n_estimators = n_estimators\n",
    "        self.max_depth = max_depth\n",
    "        self.bootstrap = bootstrap\n",
    "        self.feature_frac = feature_frac\n",
    "        \n",
    "        if criterion not in [\"gini\", \"entropy\"]:\n",
    "            raise ValueError(f'Unknown criteria for splits {criterion}')\n",
    "        self.criterion = criterion\n",
    "        \n",
    "        self.rng = random_gen if random_gen is not None else np.random.default_rng()\n",
    "        self.trees = [Tree(criterion=self.criterion, random_gen=self.rng) \n",
    "                            for _ in range(n_estimators)]\n",
    "        \n",
    "    def _init_data(self, X, y):\n",
    "        \"\"\"Ensure data are in the expected format.\n",
    "        Ensures X and y are stored as numpy ndarrays by converting from an\n",
    "        array-like object if necessary. \n",
    "        Parameters\n",
    "        Args:\n",
    "            X : array-like\n",
    "                Feature dataset.\n",
    "            y : array-like, default=None\n",
    "                Target values. By default is required, but if y_required = false\n",
    "                then may be omitted.\n",
    "        \"\"\"\n",
    "        self.size = len(X)\n",
    "        \n",
    "        if not isinstance(X, np.ndarray):\n",
    "            self.X = np.array(X)\n",
    "        else:\n",
    "            self.X = X\n",
    "\n",
    "        if not isinstance(y, np.ndarray):\n",
    "            self.y = np.array(y)\n",
    "        else:\n",
    "            self.y = y\n",
    "            \n",
    "    def bootstrap_data(self, size):\n",
    "        return self.rng.integers(size, size=size)\n",
    "    \n",
    "    def fit(self, X, y):\n",
    "        \"\"\"Fit model.\n",
    "\n",
    "        Args:\n",
    "            X (numpy-array): The training input samples. 2-dimensional numpy array.\n",
    "            y (numpy-array): The target values. 1-dimensional numpy array.\n",
    "        \"\"\"\n",
    "        # 0.5 points\n",
    "        \n",
    "        if self.feature_frac is None:\n",
    "            self.feature_frac = 1 / np.sqrt(X.shape[1])\n",
    "        elif not 0.0 <= self.feature_frac <= 1.0:\n",
    "            raise ValueError('feature_frac must lie between 0.0 and 1.0')\n",
    "            \n",
    "        self._init_data(X, y)\n",
    "        \n",
    "        # Iterate over all trees in the forest\n",
    "        for tree in self.trees:\n",
    "            if self.bootstrap:\n",
    "                idxs = self.bootstrap_data(self.size)\n",
    "                X = self.X[idxs]\n",
    "                y = self.y[idxs]\n",
    "            else:\n",
    "                X = self.X\n",
    "                y = self.y\n",
    "                \n",
    "            # Fit the tree    \n",
    "            tree.fit(X, y, feature_frac=self.feature_frac, max_depth=self.max_depth)\n",
    "            \n",
    "    def predict(self, X):\n",
    "        \"\"\"Make predictions.\n",
    "\n",
    "        Args:\n",
    "            X (numpy-array): The test data input samples. 2-dimensional numpy array.\n",
    "        \"\"\"\n",
    "        # 1 point\n",
    "        \n",
    "        if not isinstance(X, np.ndarray):\n",
    "            X = np.array(X)\n",
    "\n",
    "        if self.X is not None:\n",
    "            # Create a numpy array of zeros of necessary length\n",
    "            predictions = np.zeros(X.shape[0])\n",
    "            # Go through all rows of the dataset\n",
    "            for i in range(X.shape[0]):\n",
    "                # Initialize a counter for voting\n",
    "                row_pred = 0\n",
    "                # Sum up predictions from all the voters\n",
    "                for tree in self.trees:\n",
    "                    row_pred += tree.predict_row(X[i])\n",
    "                # Compute the mean of the votes    \n",
    "                row_pred /= self.n_estimators\n",
    "                # Save the rounded value as the prediction for the current row\n",
    "                predictions[i] = np.around(row_pred)\n",
    "            return predictions  \n",
    "        else:\n",
    "            raise ValueError(\"You should fit a model before `predict`\")\n",
    "\n",
    "    # Methods important to implement GridSearch and RandomSearch\n",
    "    def get_params(self, deep=True):\n",
    "        return {'n_estimators': self.n_estimators, 'max_depth': self.max_depth, 'feature_frac': self.feature_frac, \n",
    "                 'criterion': self.criterion, 'bootstrap': self.bootstrap}\n",
    "\n",
    "    def set_params(self, **params):\n",
    "        if not params:\n",
    "            return self\n",
    "        # self.n_estimators = params['n_estimators']\n",
    "        # self.max_depth = params['max_depth']\n",
    "        # self.feature_frac = params['feature_frac']\n",
    "        # self.criterion = params['criterion']\n",
    "        # self.bootstrap = params['bootstrap']\n",
    "        valid_params = self.get_params(deep=True)\n",
    "\n",
    "        for key, value in params.items():\n",
    "            valid_params[key] = value\n",
    "\n",
    "        return self"
   ]
  },
  {
   "cell_type": "code",
   "execution_count": 20,
   "metadata": {
    "id": "B2pyVvlmxPcP",
    "outputId": "c55cd3c2-ede6-4349-de25-b38d3a39f534"
   },
   "outputs": [
    {
     "name": "stdout",
     "output_type": "stream",
     "text": [
      "\u001b[92m All good!\n"
     ]
    }
   ],
   "source": [
    "tests.test_random_forest(RandomForestClassifier)"
   ]
  },
  {
   "cell_type": "markdown",
   "metadata": {
    "id": "dAhrVYPSxPcQ"
   },
   "source": [
    "**Task 6 - 1 Point** Fit two models with \"n_estimators=10\" and \"n_estimators=100\" hyperparameters. **Explain** the results."
   ]
  },
  {
   "cell_type": "code",
   "execution_count": 21,
   "metadata": {
    "executionInfo": {
     "elapsed": 70582,
     "status": "ok",
     "timestamp": 1650016699630,
     "user": {
      "displayName": "Kseniya Esepkina",
      "userId": "05053667790541406430"
     },
     "user_tz": -180
    },
    "id": "3RniQWAGxPcQ"
   },
   "outputs": [],
   "source": [
    "# Your code here\n",
    "# Forest with 10 trees\n",
    "forest_10 = RandomForestClassifier(random_gen=np.random.default_rng(RANDOM_STATE))\n",
    "forest_10.fit(X_train.values, y_train)\n",
    "train_acc_10 = accuracy_score(y_train, forest_10.predict(X_train.values))\n",
    "test_acc_10 = accuracy_score(y_test, forest_10.predict(X_test.values))\n",
    "\n",
    "# Forest with 100 trees\n",
    "forest_100 = RandomForestClassifier(random_gen=np.random.default_rng(RANDOM_STATE), n_estimators=100)\n",
    "forest_100.fit(X_train.values, y_train)\n",
    "train_acc_100 = accuracy_score(y_train, forest_100.predict(X_train.values))\n",
    "test_acc_100 = accuracy_score(y_test, forest_100.predict(X_test.values))"
   ]
  },
  {
   "cell_type": "code",
   "execution_count": 22,
   "metadata": {
    "colab": {
     "base_uri": "https://localhost:8080/",
     "height": 129
    },
    "executionInfo": {
     "elapsed": 205,
     "status": "ok",
     "timestamp": 1650016699648,
     "user": {
      "displayName": "Kseniya Esepkina",
      "userId": "05053667790541406430"
     },
     "user_tz": -180
    },
    "id": "i2SRQCRJxPcQ",
    "outputId": "68ef851d-f0cb-461f-a518-e24600bbb810"
   },
   "outputs": [
    {
     "name": "stdout",
     "output_type": "stream",
     "text": [
      "Results for models with unlimited depth:\n"
     ]
    },
    {
     "data": {
      "text/html": [
       "<div>\n",
       "<style scoped>\n",
       "    .dataframe tbody tr th:only-of-type {\n",
       "        vertical-align: middle;\n",
       "    }\n",
       "\n",
       "    .dataframe tbody tr th {\n",
       "        vertical-align: top;\n",
       "    }\n",
       "\n",
       "    .dataframe thead th {\n",
       "        text-align: right;\n",
       "    }\n",
       "</style>\n",
       "<table border=\"1\" class=\"dataframe\">\n",
       "  <thead>\n",
       "    <tr style=\"text-align: right;\">\n",
       "      <th></th>\n",
       "      <th>Train accuracy</th>\n",
       "      <th>Test accuracy</th>\n",
       "    </tr>\n",
       "  </thead>\n",
       "  <tbody>\n",
       "    <tr>\n",
       "      <th>n_estimators=10</th>\n",
       "      <td>0.993976</td>\n",
       "      <td>0.738095</td>\n",
       "    </tr>\n",
       "    <tr>\n",
       "      <th>n_estimators=100</th>\n",
       "      <td>1.000000</td>\n",
       "      <td>0.857143</td>\n",
       "    </tr>\n",
       "  </tbody>\n",
       "</table>\n",
       "</div>"
      ],
      "text/plain": [
       "                  Train accuracy  Test accuracy\n",
       "n_estimators=10         0.993976       0.738095\n",
       "n_estimators=100        1.000000       0.857143"
      ]
     },
     "execution_count": 22,
     "metadata": {},
     "output_type": "execute_result"
    }
   ],
   "source": [
    "# Your code here\n",
    "print('Results for models with unlimited depth:')\n",
    "pd.DataFrame({\"Train accuracy\": [train_acc_10, train_acc_100], \\\n",
    "              \"Test accuracy\": [test_acc_10, test_acc_100]}, \\\n",
    "             index=[\"n_estimators=10\", \"n_estimators=100\"])"
   ]
  },
  {
   "cell_type": "markdown",
   "metadata": {
    "id": "8p2oEddjxPcR"
   },
   "source": [
    "*We can observe, that second model's test accuracy is better, but train accuracy equals 1. Probably, it's can be explained by overfitting.*\n",
    "\n",
    "*Let's see what we will get with `max_depth=3`.*"
   ]
  },
  {
   "cell_type": "code",
   "execution_count": 28,
   "metadata": {
    "executionInfo": {
     "elapsed": 33950,
     "status": "ok",
     "timestamp": 1650015999130,
     "user": {
      "displayName": "Kseniya Esepkina",
      "userId": "05053667790541406430"
     },
     "user_tz": -180
    },
    "id": "bOR0LSrJxPcS"
   },
   "outputs": [],
   "source": [
    "# Your code here\n",
    "# Forest with 10 trees\n",
    "forest_10_depth_3 = RandomForestClassifier(max_depth=3, random_gen=np.random.default_rng(RANDOM_STATE))\n",
    "forest_10_depth_3.fit(X_train.values, y_train)\n",
    "train_acc_10_depth_3 = accuracy_score(y_train, forest_10_depth_3.predict(X_train.values))\n",
    "test_acc_10_depth_3 = accuracy_score(y_test, forest_10_depth_3.predict(X_test.values))\n",
    "\n",
    "# Forest with 100 trees\n",
    "forest_100_depth_3 = RandomForestClassifier(n_estimators=100, max_depth=3, \\\n",
    "                                            random_gen=np.random.default_rng(RANDOM_STATE))\n",
    "forest_100_depth_3.fit(X_train.values, y_train)\n",
    "train_acc_100_depth_3 = accuracy_score(y_train, forest_100_depth_3.predict(X_train.values))\n",
    "test_acc_100_depth_3 = accuracy_score(y_test, forest_100_depth_3.predict(X_test.values))"
   ]
  },
  {
   "cell_type": "code",
   "execution_count": 29,
   "metadata": {
    "colab": {
     "base_uri": "https://localhost:8080/",
     "height": 129
    },
    "executionInfo": {
     "elapsed": 73,
     "status": "ok",
     "timestamp": 1650015999138,
     "user": {
      "displayName": "Kseniya Esepkina",
      "userId": "05053667790541406430"
     },
     "user_tz": -180
    },
    "id": "57kq6d1LxPcT",
    "outputId": "73764f37-6da1-4dd2-e998-97856a7be474"
   },
   "outputs": [
    {
     "name": "stdout",
     "output_type": "stream",
     "text": [
      "Results for models with max depth = 3:\n"
     ]
    },
    {
     "data": {
      "text/html": [
       "\n",
       "  <div id=\"df-63b99d04-b1b3-4ad1-ba8e-82210ee9d201\">\n",
       "    <div class=\"colab-df-container\">\n",
       "      <div>\n",
       "<style scoped>\n",
       "    .dataframe tbody tr th:only-of-type {\n",
       "        vertical-align: middle;\n",
       "    }\n",
       "\n",
       "    .dataframe tbody tr th {\n",
       "        vertical-align: top;\n",
       "    }\n",
       "\n",
       "    .dataframe thead th {\n",
       "        text-align: right;\n",
       "    }\n",
       "</style>\n",
       "<table border=\"1\" class=\"dataframe\">\n",
       "  <thead>\n",
       "    <tr style=\"text-align: right;\">\n",
       "      <th></th>\n",
       "      <th>Train accuracy</th>\n",
       "      <th>Test accuracy</th>\n",
       "    </tr>\n",
       "  </thead>\n",
       "  <tbody>\n",
       "    <tr>\n",
       "      <th>n_estimators=10</th>\n",
       "      <td>0.903614</td>\n",
       "      <td>0.714286</td>\n",
       "    </tr>\n",
       "    <tr>\n",
       "      <th>n_estimators=100</th>\n",
       "      <td>0.975904</td>\n",
       "      <td>0.785714</td>\n",
       "    </tr>\n",
       "  </tbody>\n",
       "</table>\n",
       "</div>\n",
       "      <button class=\"colab-df-convert\" onclick=\"convertToInteractive('df-63b99d04-b1b3-4ad1-ba8e-82210ee9d201')\"\n",
       "              title=\"Convert this dataframe to an interactive table.\"\n",
       "              style=\"display:none;\">\n",
       "        \n",
       "  <svg xmlns=\"http://www.w3.org/2000/svg\" height=\"24px\"viewBox=\"0 0 24 24\"\n",
       "       width=\"24px\">\n",
       "    <path d=\"M0 0h24v24H0V0z\" fill=\"none\"/>\n",
       "    <path d=\"M18.56 5.44l.94 2.06.94-2.06 2.06-.94-2.06-.94-.94-2.06-.94 2.06-2.06.94zm-11 1L8.5 8.5l.94-2.06 2.06-.94-2.06-.94L8.5 2.5l-.94 2.06-2.06.94zm10 10l.94 2.06.94-2.06 2.06-.94-2.06-.94-.94-2.06-.94 2.06-2.06.94z\"/><path d=\"M17.41 7.96l-1.37-1.37c-.4-.4-.92-.59-1.43-.59-.52 0-1.04.2-1.43.59L10.3 9.45l-7.72 7.72c-.78.78-.78 2.05 0 2.83L4 21.41c.39.39.9.59 1.41.59.51 0 1.02-.2 1.41-.59l7.78-7.78 2.81-2.81c.8-.78.8-2.07 0-2.86zM5.41 20L4 18.59l7.72-7.72 1.47 1.35L5.41 20z\"/>\n",
       "  </svg>\n",
       "      </button>\n",
       "      \n",
       "  <style>\n",
       "    .colab-df-container {\n",
       "      display:flex;\n",
       "      flex-wrap:wrap;\n",
       "      gap: 12px;\n",
       "    }\n",
       "\n",
       "    .colab-df-convert {\n",
       "      background-color: #E8F0FE;\n",
       "      border: none;\n",
       "      border-radius: 50%;\n",
       "      cursor: pointer;\n",
       "      display: none;\n",
       "      fill: #1967D2;\n",
       "      height: 32px;\n",
       "      padding: 0 0 0 0;\n",
       "      width: 32px;\n",
       "    }\n",
       "\n",
       "    .colab-df-convert:hover {\n",
       "      background-color: #E2EBFA;\n",
       "      box-shadow: 0px 1px 2px rgba(60, 64, 67, 0.3), 0px 1px 3px 1px rgba(60, 64, 67, 0.15);\n",
       "      fill: #174EA6;\n",
       "    }\n",
       "\n",
       "    [theme=dark] .colab-df-convert {\n",
       "      background-color: #3B4455;\n",
       "      fill: #D2E3FC;\n",
       "    }\n",
       "\n",
       "    [theme=dark] .colab-df-convert:hover {\n",
       "      background-color: #434B5C;\n",
       "      box-shadow: 0px 1px 3px 1px rgba(0, 0, 0, 0.15);\n",
       "      filter: drop-shadow(0px 1px 2px rgba(0, 0, 0, 0.3));\n",
       "      fill: #FFFFFF;\n",
       "    }\n",
       "  </style>\n",
       "\n",
       "      <script>\n",
       "        const buttonEl =\n",
       "          document.querySelector('#df-63b99d04-b1b3-4ad1-ba8e-82210ee9d201 button.colab-df-convert');\n",
       "        buttonEl.style.display =\n",
       "          google.colab.kernel.accessAllowed ? 'block' : 'none';\n",
       "\n",
       "        async function convertToInteractive(key) {\n",
       "          const element = document.querySelector('#df-63b99d04-b1b3-4ad1-ba8e-82210ee9d201');\n",
       "          const dataTable =\n",
       "            await google.colab.kernel.invokeFunction('convertToInteractive',\n",
       "                                                     [key], {});\n",
       "          if (!dataTable) return;\n",
       "\n",
       "          const docLinkHtml = 'Like what you see? Visit the ' +\n",
       "            '<a target=\"_blank\" href=https://colab.research.google.com/notebooks/data_table.ipynb>data table notebook</a>'\n",
       "            + ' to learn more about interactive tables.';\n",
       "          element.innerHTML = '';\n",
       "          dataTable['output_type'] = 'display_data';\n",
       "          await google.colab.output.renderOutput(dataTable, element);\n",
       "          const docLink = document.createElement('div');\n",
       "          docLink.innerHTML = docLinkHtml;\n",
       "          element.appendChild(docLink);\n",
       "        }\n",
       "      </script>\n",
       "    </div>\n",
       "  </div>\n",
       "  "
      ],
      "text/plain": [
       "                  Train accuracy  Test accuracy\n",
       "n_estimators=10         0.903614       0.714286\n",
       "n_estimators=100        0.975904       0.785714"
      ]
     },
     "execution_count": 29,
     "metadata": {},
     "output_type": "execute_result"
    }
   ],
   "source": [
    "# Your code here\n",
    "print('Results for models with max depth = 3:')\n",
    "pd.DataFrame({\"Train accuracy\": [train_acc_10_depth_3, train_acc_100_depth_3], \\\n",
    "              \"Test accuracy\": [test_acc_10_depth_3, test_acc_100_depth_3]}, \\\n",
    "             index=[\"n_estimators=10\", \"n_estimators=100\"])"
   ]
  },
  {
   "cell_type": "markdown",
   "metadata": {
    "id": "5sYtr287xPcU"
   },
   "source": [
    "*In these models train accuracy doesn't reach 1. But the test accuracies are worser than in previous model.*\n",
    "\n",
    "*Let's plot graphs with different number of estimators for these both options.*"
   ]
  },
  {
   "cell_type": "code",
   "execution_count": 30,
   "metadata": {
    "executionInfo": {
     "elapsed": 20,
     "status": "ok",
     "timestamp": 1650016000144,
     "user": {
      "displayName": "Kseniya Esepkina",
      "userId": "05053667790541406430"
     },
     "user_tz": -180
    },
    "id": "qoU9jjnwxPcV"
   },
   "outputs": [],
   "source": [
    "def plot_metrics_on_estimators(criterion='entropy', max_depth=None):\n",
    "    ns_estimators, train_scores, test_scores = [], [], []\n",
    "    for n_estimators in range(10, 101, 10):\n",
    "        ns_estimators.append(n_estimators)\n",
    "        model = RandomForestClassifier(criterion=criterion, n_estimators=n_estimators, max_depth=max_depth, \\\n",
    "                                       random_gen=np.random.default_rng(RANDOM_STATE))\n",
    "        model.fit(X_train.values, y_train.values)\n",
    "        train_scores.append(accuracy_score(y_train, model.predict(X_train.values)))\n",
    "        y_pred = model.predict(X_test.values)\n",
    "        test_scores.append(accuracy_score(y_test, y_pred))\n",
    "    res_metrics = pd.DataFrame(data={'train': train_scores, 'test': test_scores}, index=ns_estimators)\n",
    "    sns.set(rc={'figure.figsize':(16, 6)})\n",
    "    plt.plot(res_metrics['train'], label='train score')\n",
    "    plt.plot(res_metrics['test'], label='test score')\n",
    "    plt.title(\"Accuracy as a function of n_estimators\")\n",
    "    plt.xlabel('n_estimators')\n",
    "    plt.ylabel('accuracy')\n",
    "    plt.legend()\n",
    "    plt.show();"
   ]
  },
  {
   "cell_type": "code",
   "execution_count": 31,
   "metadata": {
    "colab": {
     "base_uri": "https://localhost:8080/",
     "height": 410
    },
    "executionInfo": {
     "elapsed": 250784,
     "status": "ok",
     "timestamp": 1650016306364,
     "user": {
      "displayName": "Kseniya Esepkina",
      "userId": "05053667790541406430"
     },
     "user_tz": -180
    },
    "id": "sBHPE-jRxPcV",
    "outputId": "375c0d88-25e0-493b-ba9b-0d97e3844602"
   },
   "outputs": [
    {
     "data": {
      "image/png": "[encoded data removed]",
      "text/plain": [
       "<Figure size 1152x432 with 1 Axes>"
      ]
     },
     "metadata": {},
     "output_type": "display_data"
    }
   ],
   "source": [
    "plot_metrics_on_estimators()"
   ]
  },
  {
   "cell_type": "code",
   "execution_count": 32,
   "metadata": {
    "colab": {
     "base_uri": "https://localhost:8080/",
     "height": 410
    },
    "executionInfo": {
     "elapsed": 44566,
     "status": "ok",
     "timestamp": 1650016439290,
     "user": {
      "displayName": "Kseniya Esepkina",
      "userId": "05053667790541406430"
     },
     "user_tz": -180
    },
    "id": "8kRoOGIHxPcW",
    "outputId": "e3632857-b39c-4b16-a54e-484648874483"
   },
   "outputs": [
    {
     "data": {
      "image/png": "[encoded data removed]",
      "text/plain": [
       "<Figure size 1152x432 with 1 Axes>"
      ]
     },
     "metadata": {},
     "output_type": "display_data"
    }
   ],
   "source": [
    "plot_metrics_on_estimators(max_depth=3)"
   ]
  },
  {
   "cell_type": "markdown",
   "metadata": {
    "id": "V_g2FF5uxPcX"
   },
   "source": [
    "***Results explanation***\n",
    "\n",
    "*We can observe, that model with unlimited depth value is getting better for n_estimators more than 10, but it overfitts quickly and `n_estimators=100` can be not the best option.*\n",
    "\n",
    "*Model with `max_depth=3` is also getting better with number of trees more than 10.*\n",
    "\n",
    "*So we can make conclusion, that it's worse to use a pretty large number of estimators that give us better accuracy, while correlating the increase in quality and the amount of resources expended for computing.*"
   ]
  },
  {
   "cell_type": "markdown",
   "metadata": {
    "id": "S8bOVAllxPcX"
   },
   "source": [
    "Now it's your turn to explore the various parameters of RandomForestClassifier and their influence on model quality."
   ]
  },
  {
   "cell_type": "markdown",
   "metadata": {
    "id": "HxXQ1QFcxPcY"
   },
   "source": [
    "# Homework part 2. Random Forest in action"
   ]
  },
  {
   "cell_type": "markdown",
   "metadata": {
    "id": "4gQLquGWxPcY"
   },
   "source": [
    "_Note_: Consider **accuracy** as main metric of model performance on this dataset."
   ]
  },
  {
   "cell_type": "markdown",
   "metadata": {
    "id": "-6Ri7gYaxPcZ"
   },
   "source": [
    "_Note_: For tasks 1 to 5 please use your custom RandomForestClassifier if it is completed."
   ]
  },
  {
   "cell_type": "markdown",
   "metadata": {
    "id": "1G8EKLZZxPcZ"
   },
   "source": [
    "**Task 1 (0.5 points)** Split the dataset into train, test and validation parts (0.6 / 0.2 / 0.2). First two will be used for model hyperparameter tuning whereas the best model quality should be evaluated on validation part."
   ]
  },
  {
   "cell_type": "code",
   "execution_count": 23,
   "metadata": {
    "executionInfo": {
     "elapsed": 17,
     "status": "ok",
     "timestamp": 1650016439293,
     "user": {
      "displayName": "Kseniya Esepkina",
      "userId": "05053667790541406430"
     },
     "user_tz": -180
    },
    "id": "MTYPfe2YxPca"
   },
   "outputs": [],
   "source": [
    "# Your code here\n",
    "X_train_test, X_val, y_train_test, y_val = train_test_split(df.drop(columns='target'), df['target'], test_size=0.2, \\\n",
    "                                                            random_state=RANDOM_STATE)\n",
    "X_train, X_test, y_train, y_test = train_test_split(X_train_test, y_train_test, test_size=0.2/0.8, \\\n",
    "                                                    random_state=RANDOM_STATE)"
   ]
  },
  {
   "cell_type": "markdown",
   "metadata": {
    "id": "LzWSaSP2xPca"
   },
   "source": [
    "### Grid Search and Random Search"
   ]
  },
  {
   "cell_type": "markdown",
   "metadata": {
    "id": "Nhak4zApxPcb"
   },
   "source": [
    "If you have enough computational power for model training in a reasonable amount of time more sophisticated approach of hyperparameter tuning would be either Grid Search or Random Search.<br>\n",
    "\n",
    "In a nutshell Grid Search allows you to pass through all different combinations of given model parameters and their values and choose the best combination. Whereas Random Search would randomly choose values for given model parameters and evaluate them on test data untill it reaches the specified number of iterations.<br>\n",
    "\n",
    "More information here [Gentle introduction to Grid and Random search](https://medium.com/@senapati.dipak97/grid-search-vs-random-search-d34c92946318) and here [Detailed Explanation with code examples](https://machinelearningmastery.com/hyperparameter-optimization-with-random-search-and-grid-search/)."
   ]
  },
  {
   "cell_type": "markdown",
   "metadata": {
    "id": "8QAItwIHxPcb"
   },
   "source": [
    "![grid_random_search.png](attachment:grid_random_search.png)"
   ]
  },
  {
   "cell_type": "markdown",
   "metadata": {
    "id": "5GZq-1MExPcb"
   },
   "source": [
    "**Task 3 (1 point)**. Compare your previous results with [GridSearch](https://scikit-learn.org/stable/modules/generated/sklearn.model_selection.GridSearchCV.html) hyperparameter tuning. You may tune best hyperparameters for forest with several trees and then increase it while measure the quality on validation dataset."
   ]
  },
  {
   "cell_type": "code",
   "execution_count": 181,
   "metadata": {
    "executionInfo": {
     "elapsed": 109,
     "status": "ok",
     "timestamp": 1650016699662,
     "user": {
      "displayName": "Kseniya Esepkina",
      "userId": "05053667790541406430"
     },
     "user_tz": -180
    },
    "id": "dVYbljfdxPcc"
   },
   "outputs": [],
   "source": [
    "from sklearn.model_selection import GridSearchCV"
   ]
  },
  {
   "cell_type": "code",
   "execution_count": 195,
   "metadata": {
    "colab": {
     "base_uri": "https://localhost:8080/"
    },
    "id": "P5qReDncBjMS",
    "outputId": "199b283c-0a37-46bc-f44a-6100d9671227"
   },
   "outputs": [
    {
     "name": "stdout",
     "output_type": "stream",
     "text": [
      "Fitting 5 folds for each of 64 candidates, totalling 320 fits\n",
      "Best Score: 0.8383244206773618\n",
      "Best Hyperparameters: {'bootstrap': True, 'criterion': 'gini', 'feature_frac': 0.5, 'max_depth': 4}\n"
     ]
    }
   ],
   "source": [
    "# Your code here\n",
    "params = {'max_depth': [3, 4, 5, None], 'feature_frac': np.append(np.linspace(0.3, 0.5, num=3), None), \\\n",
    "          'criterion': ['gini', 'entropy'], 'bootstrap': [True, False]}\n",
    "model = RandomForestClassifier(n_estimators=20, random_gen=np.random.default_rng(RANDOM_STATE))\n",
    "search = GridSearchCV(model, params, n_jobs=-1, scoring='accuracy', verbose=3, cv=5)\n",
    "result = search.fit(X_train_test, y_train_test)\n",
    "print('Best Score: %s' % result.best_score_)\n",
    "print('Best Hyperparameters: %s' % result.best_params_)"
   ]
  },
  {
   "cell_type": "code",
   "execution_count": 193,
   "metadata": {
    "executionInfo": {
     "elapsed": 4,
     "status": "aborted",
     "timestamp": 1650016625564,
     "user": {
      "displayName": "Kseniya Esepkina",
      "userId": "05053667790541406430"
     },
     "user_tz": -180
    },
    "id": "RcU-k7hdxPcd"
   },
   "outputs": [
    {
     "name": "stdout",
     "output_type": "stream",
     "text": [
      "Best accuracy 0.8095238095238095 was reached with n_estimators=40.\n"
     ]
    }
   ],
   "source": [
    "best_acc_grid = 0\n",
    "best_n_estimators = 0\n",
    "for n_estimators in range(20, 100, 10):\n",
    "    best_grid_model = RandomForestClassifier(n_estimators=n_estimators, random_gen=np.random.default_rng(RANDOM_STATE), \\\n",
    "                                             **result.best_params_)\n",
    "    best_grid_model.fit(X_train_test, y_train_test)\n",
    "    y_pred = best_grid_model.predict(X_val)\n",
    "    val_acc_grid = accuracy_score(y_val, y_pred)\n",
    "    if val_acc_grid > best_acc_grid:\n",
    "        best_acc_grid = val_acc_grid\n",
    "        best_n_estimators = n_estimators\n",
    "print(f'Best accuracy {best_acc_grid} was reached with n_estimators={best_n_estimators}.')"
   ]
  },
  {
   "cell_type": "code",
   "execution_count": 194,
   "metadata": {},
   "outputs": [],
   "source": [
    "best_grid_model.set_params(n_estimators=best_n_estimators)\n",
    "best_grid_params = best_grid_model.get_params()"
   ]
  },
  {
   "cell_type": "markdown",
   "metadata": {
    "id": "MZB9DdL3xPce"
   },
   "source": [
    "**Task 4 (1 point)**. And finally tune forest hyperparameters with [RandomSearch](https://scikit-learn.org/stable/modules/generated/sklearn.model_selection.RandomizedSearchCV.html). Compare results to previous attempts."
   ]
  },
  {
   "cell_type": "code",
   "execution_count": 184,
   "metadata": {
    "executionInfo": {
     "elapsed": 308,
     "status": "ok",
     "timestamp": 1650010389704,
     "user": {
      "displayName": "Kseniya Esepkina",
      "userId": "05053667790541406430"
     },
     "user_tz": -180
    },
    "id": "Gf9BADyCB25X"
   },
   "outputs": [],
   "source": [
    "from sklearn.model_selection import RandomizedSearchCV"
   ]
  },
  {
   "cell_type": "code",
   "execution_count": 196,
   "metadata": {
    "colab": {
     "base_uri": "https://localhost:8080/"
    },
    "executionInfo": {
     "elapsed": 23960,
     "status": "ok",
     "timestamp": 1650011804804,
     "user": {
      "displayName": "Kseniya Esepkina",
      "userId": "05053667790541406430"
     },
     "user_tz": -180
    },
    "id": "l4GD_ikWxPce",
    "outputId": "9e724753-1edb-4df1-ca71-7befd12ef403"
   },
   "outputs": [
    {
     "name": "stdout",
     "output_type": "stream",
     "text": [
      "Fitting 5 folds for each of 50 candidates, totalling 250 fits\n",
      "Best Score: 0.844385026737968\n",
      "Best Hyperparameters: {'max_depth': 5, 'feature_frac': 0.7, 'criterion': 'gini', 'bootstrap': True}\n"
     ]
    }
   ],
   "source": [
    "# Your code here\n",
    "params = {'max_depth': [2, 3, 4, 5, 6, 7, 8, None], 'feature_frac': np.append(np.linspace(0.1, 0.7, num=7), None), \\\n",
    "          'criterion': ['gini', 'entropy'], 'bootstrap': [True, False]}\n",
    "rand_search = RandomizedSearchCV(model, params, n_iter=50, n_jobs=-1, scoring='accuracy', verbose=3, cv=5, \\\n",
    "                                 random_state=RANDOM_STATE)\n",
    "rand_result = rand_search.fit(X_train_test, y_train_test)\n",
    "print('Best Score: %s' % rand_result.best_score_)\n",
    "print('Best Hyperparameters: %s' % rand_result.best_params_)"
   ]
  },
  {
   "cell_type": "code",
   "execution_count": 198,
   "metadata": {
    "colab": {
     "base_uri": "https://localhost:8080/"
    },
    "executionInfo": {
     "elapsed": 10206,
     "status": "ok",
     "timestamp": 1650011980410,
     "user": {
      "displayName": "Kseniya Esepkina",
      "userId": "05053667790541406430"
     },
     "user_tz": -180
    },
    "id": "DHatmop-DTAf",
    "outputId": "0640c313-bfcc-4b56-ac02-0d893d798245"
   },
   "outputs": [
    {
     "name": "stdout",
     "output_type": "stream",
     "text": [
      "Best accuracy 0.8095238095238095 was reached with n_estimators=50.\n"
     ]
    }
   ],
   "source": [
    "best_acc_rand = 0\n",
    "best_n_estimators = 0\n",
    "for n_estimators in range(20, 100, 10):\n",
    "    best_rand_model = RandomForestClassifier(n_estimators=n_estimators, random_gen=np.random.default_rng(RANDOM_STATE), \\\n",
    "                                             **rand_result.best_params_)\n",
    "    best_rand_model.fit(X_train_test, y_train_test)\n",
    "    y_pred = best_rand_model.predict(X_val)\n",
    "    val_acc_rand = accuracy_score(y_val, y_pred)\n",
    "    if val_acc_rand > best_acc_rand:\n",
    "        best_acc_rand = val_acc_rand\n",
    "        best_n_estimators = n_estimators\n",
    "print(f'Best accuracy {best_acc_rand} was reached with n_estimators={best_n_estimators}.')"
   ]
  },
  {
   "cell_type": "code",
   "execution_count": 199,
   "metadata": {
    "colab": {
     "base_uri": "https://localhost:8080/",
     "height": 143
    },
    "executionInfo": {
     "elapsed": 427,
     "status": "ok",
     "timestamp": 1650012952304,
     "user": {
      "displayName": "Kseniya Esepkina",
      "userId": "05053667790541406430"
     },
     "user_tz": -180
    },
    "id": "CWOjKCncEKg0",
    "outputId": "def88329-9c95-44fb-905e-3e2f76061eb0"
   },
   "outputs": [
    {
     "data": {
      "text/html": [
       "<div>\n",
       "<style scoped>\n",
       "    .dataframe tbody tr th:only-of-type {\n",
       "        vertical-align: middle;\n",
       "    }\n",
       "\n",
       "    .dataframe tbody tr th {\n",
       "        vertical-align: top;\n",
       "    }\n",
       "\n",
       "    .dataframe thead th {\n",
       "        text-align: right;\n",
       "    }\n",
       "</style>\n",
       "<table border=\"1\" class=\"dataframe\">\n",
       "  <thead>\n",
       "    <tr style=\"text-align: right;\">\n",
       "      <th></th>\n",
       "      <th>Val_accuracy</th>\n",
       "      <th>Hyperparameters</th>\n",
       "    </tr>\n",
       "  </thead>\n",
       "  <tbody>\n",
       "    <tr>\n",
       "      <th>Default model</th>\n",
       "      <td>0.857143</td>\n",
       "      <td>{'n_estimators': 100, 'max_depth': None, 'feat...</td>\n",
       "    </tr>\n",
       "    <tr>\n",
       "      <th>Best model according to GridSearch</th>\n",
       "      <td>0.809524</td>\n",
       "      <td>{'n_estimators': 90, 'max_depth': 4, 'feature_...</td>\n",
       "    </tr>\n",
       "    <tr>\n",
       "      <th>Best model according to RandomSearch</th>\n",
       "      <td>0.809524</td>\n",
       "      <td>{'n_estimators': 90, 'max_depth': 5, 'feature_...</td>\n",
       "    </tr>\n",
       "  </tbody>\n",
       "</table>\n",
       "</div>"
      ],
      "text/plain": [
       "                                      Val_accuracy  \\\n",
       "Default model                             0.857143   \n",
       "Best model according to GridSearch        0.809524   \n",
       "Best model according to RandomSearch      0.809524   \n",
       "\n",
       "                                                                        Hyperparameters  \n",
       "Default model                         {'n_estimators': 100, 'max_depth': None, 'feat...  \n",
       "Best model according to GridSearch    {'n_estimators': 90, 'max_depth': 4, 'feature_...  \n",
       "Best model according to RandomSearch  {'n_estimators': 90, 'max_depth': 5, 'feature_...  "
      ]
     },
     "execution_count": 199,
     "metadata": {},
     "output_type": "execute_result"
    }
   ],
   "source": [
    "models_by_hyperparams = pd.DataFrame(data={'Val_accuracy': [test_acc_100, best_acc_grid, best_acc_rand], \\\n",
    "                   'Hyperparameters': [forest_100.get_params(), best_grid_model.get_params(), best_rand_model.get_params()]},\n",
    "             index=['Default model', 'Best model according to GridSearch', 'Best model according to RandomSearch'])\n",
    "models_by_hyperparams"
   ]
  },
  {
   "cell_type": "code",
   "execution_count": 200,
   "metadata": {
    "executionInfo": {
     "elapsed": 495,
     "status": "ok",
     "timestamp": 1650013108072,
     "user": {
      "displayName": "Kseniya Esepkina",
      "userId": "05053667790541406430"
     },
     "user_tz": -180
    },
    "id": "ckjdC3B1cdRd"
   },
   "outputs": [],
   "source": [
    "import time"
   ]
  },
  {
   "cell_type": "code",
   "execution_count": 201,
   "metadata": {
    "executionInfo": {
     "elapsed": 337,
     "status": "ok",
     "timestamp": 1650013159664,
     "user": {
      "displayName": "Kseniya Esepkina",
      "userId": "05053667790541406430"
     },
     "user_tz": -180
    },
    "id": "9plESNGxGv8N"
   },
   "outputs": [],
   "source": [
    "models_by_hyperparams.to_csv(f'models_by_hyperparams_{time.time()}.csv')"
   ]
  },
  {
   "cell_type": "code",
   "execution_count": 202,
   "metadata": {},
   "outputs": [],
   "source": [
    "from sklearn.model_selection import cross_val_score"
   ]
  },
  {
   "cell_type": "code",
   "execution_count": 203,
   "metadata": {},
   "outputs": [
    {
     "data": {
      "text/plain": [
       "0.6982539682539682"
      ]
     },
     "execution_count": 203,
     "metadata": {},
     "output_type": "execute_result"
    }
   ],
   "source": [
    "scores = cross_val_score(forest_100, X_test, y_test, cv = 5, scoring='accuracy')\n",
    "scores.mean()"
   ]
  },
  {
   "cell_type": "markdown",
   "metadata": {
    "id": "h4pPdniDxPce"
   },
   "source": [
    "**Task 5 (0.5 points)**. Tell us about your experience in hyperparameter tuning with the approaches above. What do you think would be the best option for this task and why?"
   ]
  },
  {
   "cell_type": "markdown",
   "metadata": {
    "id": "ksx1crhIxPcf"
   },
   "source": [
    "Your cool ideas here...\n",
    "\n",
    "*To say the truth, it wasn't a great experience. I've tried different sets of params, but their accuracies didn't get higher than by model with default params.*"
   ]
  },
  {
   "cell_type": "markdown",
   "metadata": {
    "id": "mYhdOJ74xPcf"
   },
   "source": [
    "### Desicion tree explained"
   ]
  },
  {
   "cell_type": "markdown",
   "metadata": {
    "id": "-jHK7KmYxPcf"
   },
   "source": [
    "Remember the [Titanic](https://www.kaggle.com/c/titanic) competition from last week? Wouldn't be a good idea to visualize one of possible desicion-making processes of _survived_ / _dead_ labeling?"
   ]
  },
  {
   "cell_type": "markdown",
   "metadata": {
    "id": "RhyTxZ5UxPcg"
   },
   "source": [
    "**Task 6 (1 point)**. Load titanic dataset, split it into train/test parts, apply simple hyperparameter tuning of [DesicionTreeClassifier](https://scikit-learn.org/stable/modules/generated/sklearn.tree.DecisionTreeClassifier.html) (use one of the approaches above) in order to have **test accuracy more than 0.65**. <br>\n",
    "\n",
    "Draw the best tree decision making process. You may use [sklearn.tree.prot_tree](https://scikit-learn.org/stable/modules/generated/sklearn.tree.plot_tree.html).<br>"
   ]
  },
  {
   "cell_type": "code",
   "execution_count": 99,
   "metadata": {},
   "outputs": [],
   "source": [
    "from sklearn.impute import SimpleImputer"
   ]
  },
  {
   "cell_type": "code",
   "execution_count": 89,
   "metadata": {},
   "outputs": [],
   "source": [
    "titanic_train = pd.read_csv('data/train.csv')"
   ]
  },
  {
   "cell_type": "code",
   "execution_count": 91,
   "metadata": {},
   "outputs": [],
   "source": [
    "titanic_changed = pd.get_dummies(titanic_train, columns=['Sex', 'Embarked'], drop_first=True)\n",
    "titanic_changed.drop(columns=['Name', 'Ticket', 'Cabin'], inplace=True)"
   ]
  },
  {
   "cell_type": "code",
   "execution_count": 111,
   "metadata": {},
   "outputs": [],
   "source": [
    "X_train, X_test, y_train, y_test = train_test_split(titanic_changed.drop(columns='Survived'), titanic_changed['Survived'], \\\n",
    "                                                    test_size=0.2, random_state=RANDOM_STATE)"
   ]
  },
  {
   "cell_type": "code",
   "execution_count": 112,
   "metadata": {},
   "outputs": [],
   "source": [
    "imp = SimpleImputer(missing_values=np.nan, strategy='mean')\n",
    "imp = imp.fit(X_train)\n",
    "X_train = imp.transform(X_train)\n",
    "X_test = imp.transform(X_test)"
   ]
  },
  {
   "cell_type": "code",
   "execution_count": 68,
   "metadata": {
    "id": "LqHnCFt-xPcg"
   },
   "outputs": [],
   "source": [
    "from sklearn.tree import DecisionTreeClassifier\n",
    "\n",
    "# your code here"
   ]
  },
  {
   "cell_type": "code",
   "execution_count": 101,
   "metadata": {},
   "outputs": [
    {
     "name": "stdout",
     "output_type": "stream",
     "text": [
      "Fitting 5 folds for each of 50 candidates, totalling 250 fits\n",
      "Best Score: 0.8189106667979906\n",
      "Best Hyperparameters: {'splitter': 'random', 'min_samples_split': 17, 'max_features': None, 'max_depth': 7, 'criterion': 'gini'}\n"
     ]
    }
   ],
   "source": [
    "model = DecisionTreeClassifier(random_state=RANDOM_STATE)\n",
    "params = {'criterion': ('gini', 'entropy'), 'splitter': ('best', 'random'), 'max_depth': list(range(2, 10)), \\\n",
    "          'min_samples_split': list(range(2, 20)), 'max_features': (None, 'auto', 'sqrt', 'log2')}\n",
    "rand_search = RandomizedSearchCV(model, params, n_iter=50, n_jobs=-1, scoring='accuracy', verbose=3, cv=5, \\\n",
    "                                 random_state=RANDOM_STATE)\n",
    "rand_result_tit = rand_search.fit(X_train, y_train)\n",
    "print('Best Score: %s' % rand_result_tit.best_score_)\n",
    "print('Best Hyperparameters: %s' % rand_result_tit.best_params_)"
   ]
  },
  {
   "cell_type": "code",
   "execution_count": 149,
   "metadata": {},
   "outputs": [
    {
     "name": "stdout",
     "output_type": "stream",
     "text": [
      "Fitting 5 folds for each of 4536 candidates, totalling 22680 fits\n",
      "Best Score: 0.8230375258544272\n",
      "Best Hyperparameters: {'criterion': 'gini', 'max_depth': 6, 'max_features': None, 'min_samples_split': 8, 'splitter': 'random'}\n"
     ]
    }
   ],
   "source": [
    "params = {'criterion': ['gini', 'entropy'], 'splitter': ['best', 'random'], 'max_depth': range(3, 10), \\\n",
    "          'min_samples_split': range(2, 20), 'max_features': [None, 'auto', 'sqrt', 'log2', 0.2, 0.3, 0.4]}\n",
    "grid_search = GridSearchCV(model, params, n_jobs=-1, scoring='accuracy', verbose=3, cv=5)\n",
    "result_tit = grid_search.fit(X_train, y_train)\n",
    "print('Best Score: %s' % result_tit.best_score_)\n",
    "print('Best Hyperparameters: %s' % result_tit.best_params_)"
   ]
  },
  {
   "cell_type": "code",
   "execution_count": 113,
   "metadata": {},
   "outputs": [
    {
     "name": "stdout",
     "output_type": "stream",
     "text": [
      "Test accuracy = 0.7262569832402235.\n"
     ]
    }
   ],
   "source": [
    "best_model = DecisionTreeClassifier(random_state=RANDOM_STATE, **result.best_params_)\n",
    "best_model.fit(X_train, y_train)\n",
    "y_pred = best_model.predict(X_test)\n",
    "test_acc = accuracy_score(y_test, y_pred)\n",
    "print(f'Test accuracy = {test_acc}.')"
   ]
  },
  {
   "cell_type": "markdown",
   "metadata": {},
   "source": [
    "*We reached test accuracy **0.7263**, that is larger than 0.65.*"
   ]
  },
  {
   "cell_type": "code",
   "execution_count": 115,
   "metadata": {},
   "outputs": [],
   "source": [
    "from sklearn.tree import plot_tree"
   ]
  },
  {
   "cell_type": "code",
   "execution_count": 126,
   "metadata": {},
   "outputs": [
    {
     "data": {
      "image/png": "[encoded data removed]",
      "text/plain": [
       "<Figure size 1080x1080 with 1 Axes>"
      ]
     },
     "metadata": {
      "needs_background": "light"
     },
     "output_type": "display_data"
    }
   ],
   "source": [
    "plt.figure(figsize=(15,15))\n",
    "plot_tree(best_model, filled=True, proportion=True, fontsize=8)\n",
    "plt.title(\"Decision tree trained on the titanic dataset\")\n",
    "plt.show()"
   ]
  },
  {
   "cell_type": "markdown",
   "metadata": {
    "id": "BuAAAfYAxPcg"
   },
   "source": [
    "Is it easy to interpret its results? Are you able to explain to a random person why would they survive / die on the titanic?"
   ]
  },
  {
   "cell_type": "markdown",
   "metadata": {},
   "source": [
    "*Ok, let's first interpret the root node splitting.*"
   ]
  },
  {
   "cell_type": "code",
   "execution_count": 130,
   "metadata": {},
   "outputs": [],
   "source": [
    "X = titanic_changed.drop(columns=['Survived'])\n",
    "y = titanic_changed['Survived']"
   ]
  },
  {
   "cell_type": "code",
   "execution_count": 147,
   "metadata": {},
   "outputs": [
    {
     "name": "stdout",
     "output_type": "stream",
     "text": [
      "Column to divide first is \"Sex_male\".\n"
     ]
    }
   ],
   "source": [
    "print(f'Column to divide first is \"{X.columns[6]}\".')"
   ]
  },
  {
   "cell_type": "markdown",
   "metadata": {},
   "source": [
    "*So, this is an absolutly understandable result. We've already explained in previous notebooks, why this feature is important for classification.*"
   ]
  },
  {
   "cell_type": "code",
   "execution_count": 148,
   "metadata": {
    "scrolled": false
   },
   "outputs": [
    {
     "name": "stdout",
     "output_type": "stream",
     "text": [
      "Column to divide men and women on the second level is \"Pclass\".\n"
     ]
    }
   ],
   "source": [
    "print(f'Column to divide men and women on the second level is \"{X.columns[1]}\".')"
   ]
  },
  {
   "cell_type": "markdown",
   "metadata": {},
   "source": [
    "*Our tree divided women into 1)group from first and second classes and 2)from the third class. Men were divided in other way. The first group was from the first class. And the secont and the third class were in the second group.*\n",
    "\n",
    "*These splits is also explainable, because passengers with higher class lived higher and had more possibilities to climb on deck and to run to the boats earlier.*"
   ]
  },
  {
   "cell_type": "code",
   "execution_count": 163,
   "metadata": {},
   "outputs": [
    {
     "name": "stdout",
     "output_type": "stream",
     "text": [
      "Next column to split women on the third tree level is \"Embarked_S\".\n"
     ]
    }
   ],
   "source": [
    "print(f'Next column to split women on the third tree level is \"{X.columns[8]}\".')"
   ]
  },
  {
   "cell_type": "code",
   "execution_count": 179,
   "metadata": {},
   "outputs": [
    {
     "data": {
      "image/png": "[encoded data removed]",
      "text/plain": [
       "<Figure size 432x288 with 1 Axes>"
      ]
     },
     "metadata": {
      "needs_background": "light"
     },
     "output_type": "display_data"
    }
   ],
   "source": [
    "titanic_changed[(titanic_changed.Sex_male==0)].groupby(['Embarked_S', 'Survived']).size().unstack()\\\n",
    "                .apply(lambda x: pd.Series([float(el)/sum(x) for el in x], index=['died', 'survived']), axis=1)\\\n",
    "                .plot(kind='bar', stacked=True, \\\n",
    "                      title='Probability of women surviving based on the port of embarkation (\"S\" or \"not S\")');"
   ]
  },
  {
   "cell_type": "markdown",
   "metadata": {},
   "source": [
    "*As we can observe, women who landed at the Southhampton port, had less chances to survive.*"
   ]
  },
  {
   "cell_type": "code",
   "execution_count": 180,
   "metadata": {},
   "outputs": [
    {
     "name": "stdout",
     "output_type": "stream",
     "text": [
      "Next column to split men on the third tree level is \"PassengerId\".\n"
     ]
    }
   ],
   "source": [
    "print(f'Next column to split men on the third tree level is \"{X.columns[0]}\".')"
   ]
  },
  {
   "cell_type": "markdown",
   "metadata": {},
   "source": [
    "*That's a really crazy feature to split. I actually don't know, why I didn't drop it. It doesn't make sense, because new passengers can be mixed in different sequence.*"
   ]
  },
  {
   "cell_type": "markdown",
   "metadata": {},
   "source": [
    "***Conclusion***\n",
    "\n",
    "*So, after analyzing first three levels we can conclude, that most splitting made by decision tree are expainable. I suppose, it's harder to explain spittings at the last levels, but they still will have some sense.*"
   ]
  }
 ],
 "metadata": {
  "colab": {
   "collapsed_sections": [
    "SihuAWG1xPbc",
    "nxbA6b-bxPbi",
    "e_wPZLa2xPbm",
    "Cb6NzsYLxPbs",
    "kw4qUz4vxPbw"
   ],
   "name": "7_Trees_and_Ensembles.ipynb",
   "provenance": []
  },
  "kernelspec": {
   "display_name": "Python 3 (ipykernel)",
   "language": "python",
   "name": "python3"
  },
  "language_info": {
   "codemirror_mode": {
    "name": "ipython",
    "version": 3
   },
   "file_extension": ".py",
   "mimetype": "text/x-python",
   "name": "python",
   "nbconvert_exporter": "python",
   "pygments_lexer": "ipython3",
   "version": "3.9.7"
  },
  "toc": {
   "base_numbering": 1,
   "nav_menu": {},
   "number_sections": true,
   "sideBar": true,
   "skip_h1_title": false,
   "title_cell": "Table of Contents",
   "title_sidebar": "Contents",
   "toc_cell": false,
   "toc_position": {
    "height": "calc(100% - 180px)",
    "left": "10px",
    "top": "150px",
    "width": "235px"
   },
   "toc_section_display": true,
   "toc_window_display": true
  }
 },
 "nbformat": 4,
 "nbformat_minor": 1
}
